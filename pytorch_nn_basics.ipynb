{
  "nbformat": 4,
  "nbformat_minor": 0,
  "metadata": {
    "colab": {
      "provenance": [],
      "gpuType": "T4",
      "authorship_tag": "ABX9TyMwcx448VTYi96CLHqobdme",
      "include_colab_link": true
    },
    "kernelspec": {
      "name": "python3",
      "display_name": "Python 3"
    },
    "language_info": {
      "name": "python"
    },
    "accelerator": "GPU"
  },
  "cells": [
    {
      "cell_type": "markdown",
      "metadata": {
        "id": "view-in-github",
        "colab_type": "text"
      },
      "source": [
        "<a href=\"https://colab.research.google.com/github/Shreejan-git/pytorch-complete-course/blob/main/pytorch_nn_basics.ipynb\" target=\"_parent\"><img src=\"https://colab.research.google.com/assets/colab-badge.svg\" alt=\"Open In Colab\"/></a>"
      ]
    },
    {
      "cell_type": "code",
      "execution_count": 1,
      "metadata": {
        "id": "G_45BzF8pWvh"
      },
      "outputs": [],
      "source": [
        "import torch\n",
        "from torch import nn\n",
        "import matplotlib.pyplot as plt"
      ]
    },
    {
      "cell_type": "code",
      "source": [
        "print(torch.__version__)"
      ],
      "metadata": {
        "colab": {
          "base_uri": "https://localhost:8080/"
        },
        "id": "d2x33C50qHKQ",
        "outputId": "e6dfecfd-c854-4d7d-da72-a3644b717baf"
      },
      "execution_count": 2,
      "outputs": [
        {
          "output_type": "stream",
          "name": "stdout",
          "text": [
            "2.0.1+cu118\n"
          ]
        }
      ]
    },
    {
      "cell_type": "code",
      "source": [
        "!nvidia-smi"
      ],
      "metadata": {
        "colab": {
          "base_uri": "https://localhost:8080/"
        },
        "id": "DfkKfwe0qJ5y",
        "outputId": "7e920a0c-4b63-42ee-8175-347f959b76c3"
      },
      "execution_count": 3,
      "outputs": [
        {
          "output_type": "stream",
          "name": "stdout",
          "text": [
            "Thu Sep  7 08:01:11 2023       \n",
            "+-----------------------------------------------------------------------------+\n",
            "| NVIDIA-SMI 525.105.17   Driver Version: 525.105.17   CUDA Version: 12.0     |\n",
            "|-------------------------------+----------------------+----------------------+\n",
            "| GPU  Name        Persistence-M| Bus-Id        Disp.A | Volatile Uncorr. ECC |\n",
            "| Fan  Temp  Perf  Pwr:Usage/Cap|         Memory-Usage | GPU-Util  Compute M. |\n",
            "|                               |                      |               MIG M. |\n",
            "|===============================+======================+======================|\n",
            "|   0  Tesla T4            Off  | 00000000:00:04.0 Off |                    0 |\n",
            "| N/A   40C    P8    10W /  70W |      0MiB / 15360MiB |      0%      Default |\n",
            "|                               |                      |                  N/A |\n",
            "+-------------------------------+----------------------+----------------------+\n",
            "                                                                               \n",
            "+-----------------------------------------------------------------------------+\n",
            "| Processes:                                                                  |\n",
            "|  GPU   GI   CI        PID   Type   Process name                  GPU Memory |\n",
            "|        ID   ID                                                   Usage      |\n",
            "|=============================================================================|\n",
            "|  No running processes found                                                 |\n",
            "+-----------------------------------------------------------------------------+\n"
          ]
        }
      ]
    },
    {
      "cell_type": "markdown",
      "source": [
        "**Notes while creating a custom model:**\n",
        "\n",
        "\n",
        "1.   If we are creating our custom neural network module, it must inherit from nn.Module. https://pytorch.org/docs/stable/generated/torch.nn.Module.html\n",
        "2.   Always call the __init__ (constructor) of the parent class using the super().__init__(). This is a mandatory step. If we do not call the parents's constructor, we will have problems while training and saving the model.\n",
        "3. When we are inheriting from nn.Module, it is mandatory to add forward method.\n",
        "4. Below, nn.parameter's work is to mark that variable as a learnable parameter. nn.parameter will track it while training.\n"
      ],
      "metadata": {
        "id": "2NEBehP6GspC"
      }
    },
    {
      "cell_type": "code",
      "source": [
        "class SimpleLinearRegression(nn.Module):\n",
        "  def __init__(self):\n",
        "    super().__init__()\n",
        "    self.weight = nn.Parameter(torch.rand(1,\n",
        "                               requires_grad=True),\n",
        "                               dtype=torch.float32)\n",
        "    self.bias = nn.Parameter(torch.rand(1,\n",
        "                             requires_grad=True,\n",
        "                             dtype=torch.float32))\n",
        "\n",
        "  def forward(self, X: torch.Tensor) -> torch.Tensor:\n",
        "    return self.weight * X + self.bias"
      ],
      "metadata": {
        "id": "Ef-umtmWqpIj"
      },
      "execution_count": 15,
      "outputs": []
    },
    {
      "cell_type": "markdown",
      "source": [
        "**Resources**\n",
        "\n",
        "Pytorch Loss function: https://pytorch.org/docs/stable/nn.html#loss-functions , https://neptune.ai/blog/pytorch-loss-functions\n",
        "\n",
        "Pytorch optimization functions: https://pytorch.org/docs/stable/optim.html"
      ],
      "metadata": {
        "id": "D-wtoIGyGDN9"
      }
    },
    {
      "cell_type": "code",
      "source": [
        "# defining the loss function. L1Loss is MAE loss function.\n",
        "loss_fun = nn.L1Loss()\n",
        "print(loss_fun)"
      ],
      "metadata": {
        "colab": {
          "base_uri": "https://localhost:8080/"
        },
        "id": "qKPB2zTeFnGe",
        "outputId": "366e434b-660f-415c-f93a-e203f0d7a14b"
      },
      "execution_count": 16,
      "outputs": [
        {
          "output_type": "stream",
          "name": "stdout",
          "text": [
            "L1Loss()\n"
          ]
        }
      ]
    },
    {
      "cell_type": "code",
      "source": [
        "# defining the optimization function.\n",
        "# We can define any optimization function. like Adam, SGD, Adagrad\n",
        "# 1st parameter of SGD is the model's parameters. We can get this by writing model.parameters().\n",
        "#Give the exact name of the variable which we named while initializing the Class\n",
        "optimizer = torch.optim.SGD(params=model.parameters(),\n",
        "                            lr = 0.001,)"
      ],
      "metadata": {
        "id": "DgUWd_kCF2Op"
      },
      "execution_count": null,
      "outputs": []
    },
    {
      "cell_type": "markdown",
      "source": [],
      "metadata": {
        "id": "MvZikrqeqosG"
      }
    }
  ]
}