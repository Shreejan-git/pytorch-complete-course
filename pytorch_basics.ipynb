{
  "nbformat": 4,
  "nbformat_minor": 0,
  "metadata": {
    "colab": {
      "provenance": [],
      "authorship_tag": "ABX9TyNrNO4Pe9bDwkmjqJOAAaEX",
      "include_colab_link": true
    },
    "kernelspec": {
      "name": "python3",
      "display_name": "Python 3"
    },
    "language_info": {
      "name": "python"
    }
  },
  "cells": [
    {
      "cell_type": "markdown",
      "metadata": {
        "id": "view-in-github",
        "colab_type": "text"
      },
      "source": [
        "<a href=\"https://colab.research.google.com/github/Shreejan-git/pytorch-complete-course/blob/main/pytorch_basics.ipynb\" target=\"_parent\"><img src=\"https://colab.research.google.com/assets/colab-badge.svg\" alt=\"Open In Colab\"/></a>"
      ]
    },
    {
      "cell_type": "code",
      "execution_count": 1,
      "metadata": {
        "colab": {
          "base_uri": "https://localhost:8080/"
        },
        "id": "E1OHGzGRYEGp",
        "outputId": "0e6a925d-614f-4ae4-e01e-53a11ce3e54f"
      },
      "outputs": [
        {
          "output_type": "stream",
          "name": "stdout",
          "text": [
            "/bin/bash: line 1: nvidia-smi: command not found\n"
          ]
        }
      ],
      "source": [
        "!nvidia-smi"
      ]
    },
    {
      "cell_type": "code",
      "source": [
        "import torch\n",
        "print(torch.__version__)"
      ],
      "metadata": {
        "colab": {
          "base_uri": "https://localhost:8080/"
        },
        "id": "Pq0RUARRYQiX",
        "outputId": "1728f419-b781-48f2-b35a-a3de77b03b3c"
      },
      "execution_count": 2,
      "outputs": [
        {
          "output_type": "stream",
          "name": "stdout",
          "text": [
            "2.0.1+cu118\n"
          ]
        }
      ]
    },
    {
      "cell_type": "markdown",
      "source": [
        "**Tensor datatypes**\n",
        "\n",
        "Default datatype in torch in float32 for float and int64 for int"
      ],
      "metadata": {
        "id": "XBhLQXk6gk7y"
      }
    },
    {
      "cell_type": "code",
      "source": [
        "type_32 = torch.tensor(2.0,\n",
        "                       dtype=None,\n",
        "                       device=None,\n",
        "                       requires_grad=False)\n",
        "\n",
        "print(type_32, type_32.dtype)"
      ],
      "metadata": {
        "colab": {
          "base_uri": "https://localhost:8080/"
        },
        "id": "NZ2T-_2vg9eu",
        "outputId": "e5582ef8-fb2b-475f-89f4-c9400c5fdb2f"
      },
      "execution_count": 23,
      "outputs": [
        {
          "output_type": "stream",
          "name": "stdout",
          "text": [
            "tensor(2.) torch.float32\n"
          ]
        }
      ]
    },
    {
      "cell_type": "code",
      "source": [
        "type_16 = type_32.type(torch.float16)\n",
        "type_16"
      ],
      "metadata": {
        "colab": {
          "base_uri": "https://localhost:8080/"
        },
        "id": "6x7JI5_pjDx4",
        "outputId": "25a4644c-8d7a-4e1f-e7fc-2dea6722649c"
      },
      "execution_count": 24,
      "outputs": [
        {
          "output_type": "execute_result",
          "data": {
            "text/plain": [
              "tensor(2., dtype=torch.float16)"
            ]
          },
          "metadata": {},
          "execution_count": 24
        }
      ]
    },
    {
      "cell_type": "code",
      "source": [
        "a = type_16 * type_32\n",
        "print(a, a.dtype)"
      ],
      "metadata": {
        "colab": {
          "base_uri": "https://localhost:8080/"
        },
        "id": "iDrnx0o7jgQc",
        "outputId": "c6636bb4-ad12-44ba-ed9c-12e03b1f6aeb"
      },
      "execution_count": 27,
      "outputs": [
        {
          "output_type": "stream",
          "name": "stdout",
          "text": [
            "tensor(4.) torch.float32\n"
          ]
        }
      ]
    },
    {
      "cell_type": "code",
      "source": [
        "type_32_vector = torch.tensor([1.0,2.0,3.0])\n",
        "print(type_32_vector, type_32_vector.dtype)"
      ],
      "metadata": {
        "colab": {
          "base_uri": "https://localhost:8080/"
        },
        "id": "Ysx8kRvsjttz",
        "outputId": "cd93344a-2b38-4ae9-fc44-354a990ced51"
      },
      "execution_count": 28,
      "outputs": [
        {
          "output_type": "stream",
          "name": "stdout",
          "text": [
            "tensor([1., 2., 3.]) torch.float32\n"
          ]
        }
      ]
    },
    {
      "cell_type": "code",
      "source": [
        "type_16_vector = type_32_vector.type(torch.float16)\n",
        "print(type_16_vector)"
      ],
      "metadata": {
        "colab": {
          "base_uri": "https://localhost:8080/"
        },
        "id": "xzs3vBfGj8yZ",
        "outputId": "c249460c-826d-426b-a773-44d30418cf01"
      },
      "execution_count": 29,
      "outputs": [
        {
          "output_type": "stream",
          "name": "stdout",
          "text": [
            "tensor([1., 2., 3.], dtype=torch.float16)\n"
          ]
        }
      ]
    },
    {
      "cell_type": "code",
      "source": [
        "b = type_16_vector * type_32_vector\n",
        "print(b, b.dtype)"
      ],
      "metadata": {
        "colab": {
          "base_uri": "https://localhost:8080/"
        },
        "id": "ZBWEqJhEj8Rj",
        "outputId": "a0a96329-33ae-49b5-91c5-7e67891055bf"
      },
      "execution_count": 30,
      "outputs": [
        {
          "output_type": "stream",
          "name": "stdout",
          "text": [
            "tensor([1., 4., 9.]) torch.float32\n"
          ]
        }
      ]
    },
    {
      "cell_type": "markdown",
      "source": [
        "**Introduction to the tensor**\n"
      ],
      "metadata": {
        "id": "t4kxYCoMZpa_"
      }
    },
    {
      "cell_type": "code",
      "source": [
        "scaler = torch.tensor(7)\n",
        "scaler # type will be tensor-type"
      ],
      "metadata": {
        "colab": {
          "base_uri": "https://localhost:8080/"
        },
        "id": "yeHjQW7qaV93",
        "outputId": "65edd892-ab04-4341-b54c-8eee208d0df4"
      },
      "execution_count": 3,
      "outputs": [
        {
          "output_type": "execute_result",
          "data": {
            "text/plain": [
              "tensor(7)"
            ]
          },
          "metadata": {},
          "execution_count": 3
        }
      ]
    },
    {
      "cell_type": "code",
      "source": [
        "scaler.ndim # scaler does not have a dimension"
      ],
      "metadata": {
        "colab": {
          "base_uri": "https://localhost:8080/"
        },
        "id": "v_mq1CJbcI9n",
        "outputId": "61ddc4c7-b87c-4cfc-e1bd-3ca3662094af"
      },
      "execution_count": 4,
      "outputs": [
        {
          "output_type": "execute_result",
          "data": {
            "text/plain": [
              "0"
            ]
          },
          "metadata": {},
          "execution_count": 4
        }
      ]
    },
    {
      "cell_type": "code",
      "source": [
        "scaler.item() # to get the python int instead of tensor-type scaler"
      ],
      "metadata": {
        "colab": {
          "base_uri": "https://localhost:8080/"
        },
        "id": "zS1nJLG3cRnR",
        "outputId": "6e72fb3c-248c-45a8-88ac-56eb60297844"
      },
      "execution_count": 5,
      "outputs": [
        {
          "output_type": "execute_result",
          "data": {
            "text/plain": [
              "7"
            ]
          },
          "metadata": {},
          "execution_count": 5
        }
      ]
    },
    {
      "cell_type": "markdown",
      "source": [
        "**Defining a vector**\n"
      ],
      "metadata": {
        "id": "wekDBMnqgMG8"
      }
    },
    {
      "cell_type": "code",
      "source": [
        "vec = torch.tensor([1,2])\n",
        "print(vec)\n",
        "print('type:', type(vec)) # type will be torch.Tensor\n",
        "print('dimension:', vec.ndim) # vector will have 1 dimension\n",
        "print('shape:', vec.shape) # shape will show the num of elements"
      ],
      "metadata": {
        "colab": {
          "base_uri": "https://localhost:8080/"
        },
        "id": "6iECTtRacn5c",
        "outputId": "234d8ece-010c-4fb8-ed3f-2a172fbd7ade"
      },
      "execution_count": 6,
      "outputs": [
        {
          "output_type": "stream",
          "name": "stdout",
          "text": [
            "tensor([1, 2])\n",
            "type: <class 'torch.Tensor'>\n",
            "dimension: 1\n",
            "shape: torch.Size([2])\n"
          ]
        }
      ]
    },
    {
      "cell_type": "markdown",
      "source": [
        "**Defining the matrix/tensor**\n",
        "\n",
        "*Imp: matrix and tensor must be defined with the capital letters*"
      ],
      "metadata": {
        "id": "6J-UtkaTfk9_"
      }
    },
    {
      "cell_type": "code",
      "source": [
        "# Two dimention tensor\n",
        "MAT = torch.tensor([[1,2],\n",
        "                    [3,4]])"
      ],
      "metadata": {
        "id": "KnrieZ1FdcMD"
      },
      "execution_count": 7,
      "outputs": []
    },
    {
      "cell_type": "code",
      "source": [
        "print(MAT) # two dimension matrix\n",
        "print('dimension:', MAT.ndim)\n",
        "print('shape:', MAT.shape)"
      ],
      "metadata": {
        "colab": {
          "base_uri": "https://localhost:8080/"
        },
        "id": "c04YDOJwdxQA",
        "outputId": "7f623338-ae17-4843-c347-f5a1992ff126"
      },
      "execution_count": 8,
      "outputs": [
        {
          "output_type": "stream",
          "name": "stdout",
          "text": [
            "tensor([[1, 2],\n",
            "        [3, 4]])\n",
            "dimension: 2\n",
            "shape: torch.Size([2, 2])\n"
          ]
        }
      ]
    },
    {
      "cell_type": "code",
      "source": [
        "# accessing the values\n",
        "print(MAT[0]) # first row, i.e [1,2]\n",
        "print(MAT[1]) # second row, i.e [3,4]"
      ],
      "metadata": {
        "colab": {
          "base_uri": "https://localhost:8080/"
        },
        "id": "Lwu9x_olfwm-",
        "outputId": "fad9b1a8-e7e4-4d39-d4d2-2cb1feca7ab6"
      },
      "execution_count": 9,
      "outputs": [
        {
          "output_type": "stream",
          "name": "stdout",
          "text": [
            "tensor([1, 2])\n",
            "tensor([3, 4])\n"
          ]
        }
      ]
    },
    {
      "cell_type": "code",
      "source": [
        "print(MAT[0][1]) # first row's 2nd element, i.e. [2]"
      ],
      "metadata": {
        "colab": {
          "base_uri": "https://localhost:8080/"
        },
        "id": "43n1JWxdf-HW",
        "outputId": "7ca95bf2-0c4d-45c9-963a-efb2bcd8ca51"
      },
      "execution_count": 10,
      "outputs": [
        {
          "output_type": "stream",
          "name": "stdout",
          "text": [
            "tensor(2)\n"
          ]
        }
      ]
    },
    {
      "cell_type": "markdown",
      "source": [
        "*three dimension tensor*\n",
        "\n",
        "torch.tensor([\n",
        "  [ ],\n",
        "  [ ],\n",
        "  [ ],\n",
        "])\n",
        "\n",
        "In layman term: creating a three dim tensor is simply placing the multiple two_dim tensors inside a square bracket."
      ],
      "metadata": {
        "id": "fdz45JaCeoyt"
      }
    },
    {
      "cell_type": "code",
      "source": [
        "# 3 two_dim tensors inside a square bracket!\n",
        "# all 3 two_dim tensors are of (2,3) shape\n",
        "# so the overall shape of the below three_dim tensor will be [3,2,3].\n",
        "THREEDIM = torch.tensor([\n",
        "    [[1,2,3],[14,14,14]],\n",
        "\n",
        "    [[11,22,33],[45,45,45]],\n",
        "\n",
        "    [[111,222,333],[445,445,445]],\n",
        "    ])\n",
        "print(THREEDIM)\n",
        "print('dimension:',THREEDIM.ndim)\n",
        "print('shape:', THREEDIM.shape)"
      ],
      "metadata": {
        "colab": {
          "base_uri": "https://localhost:8080/"
        },
        "id": "GNZCBMupeDdt",
        "outputId": "812a4e9d-535d-4a25-d29f-eadde30de6b5"
      },
      "execution_count": 11,
      "outputs": [
        {
          "output_type": "stream",
          "name": "stdout",
          "text": [
            "tensor([[[  1,   2,   3],\n",
            "         [ 14,  14,  14]],\n",
            "\n",
            "        [[ 11,  22,  33],\n",
            "         [ 45,  45,  45]],\n",
            "\n",
            "        [[111, 222, 333],\n",
            "         [445, 445, 445]]])\n",
            "dimension: 3\n",
            "shape: torch.Size([3, 2, 3])\n"
          ]
        }
      ]
    },
    {
      "cell_type": "code",
      "source": [
        "print('accessing 1st row of 1st 2_dim tensor:', THREEDIM[0][0])\n",
        "print('accessing 1st row of 3rd 2_dim tensor:', THREEDIM[2][0])"
      ],
      "metadata": {
        "colab": {
          "base_uri": "https://localhost:8080/"
        },
        "id": "2sAx5Sd5hc2A",
        "outputId": "cdc3abc7-a4d2-451a-9bf6-7b5dd28cf863"
      },
      "execution_count": 12,
      "outputs": [
        {
          "output_type": "stream",
          "name": "stdout",
          "text": [
            "accessing 1st row of 1st 2_dim tensor: tensor([1, 2, 3])\n",
            "accessing 1st row of 3rd 2_dim tensor: tensor([111, 222, 333])\n"
          ]
        }
      ]
    },
    {
      "cell_type": "markdown",
      "source": [
        "**Creating a random value tensor**"
      ],
      "metadata": {
        "id": "wFEd-VZrki3n"
      }
    },
    {
      "cell_type": "code",
      "source": [
        "RANDOMTENSOR = torch.rand(5,2)\n",
        "RANDOMTENSOR"
      ],
      "metadata": {
        "colab": {
          "base_uri": "https://localhost:8080/"
        },
        "id": "3efRBhyTbBfJ",
        "outputId": "d0aef2f7-55b3-48a5-cd99-1f81a368408a"
      },
      "execution_count": 13,
      "outputs": [
        {
          "output_type": "execute_result",
          "data": {
            "text/plain": [
              "tensor([[0.9455, 0.7383],\n",
              "        [0.6878, 0.1610],\n",
              "        [0.9503, 0.2281],\n",
              "        [0.4077, 0.5955],\n",
              "        [0.5296, 0.1392]])"
            ]
          },
          "metadata": {},
          "execution_count": 13
        }
      ]
    },
    {
      "cell_type": "markdown",
      "source": [
        "We need to be familiar with the random tensor because neural network's weights are created similarly."
      ],
      "metadata": {
        "id": "Ga0Xjk_goLcI"
      }
    },
    {
      "cell_type": "code",
      "source": [
        "RANDOM_INT_TENSOR = torch.randint(low=1, high=5, size=(2,2))  # creating a random-valued tensor with values in-between 1 and 5 with shape 2,2\n",
        "RANDOM_INT_TENSOR"
      ],
      "metadata": {
        "colab": {
          "base_uri": "https://localhost:8080/"
        },
        "id": "YjlEsVX5lo1p",
        "outputId": "74ef5abc-a029-4d81-c7ee-0f38b092a58e"
      },
      "execution_count": 14,
      "outputs": [
        {
          "output_type": "execute_result",
          "data": {
            "text/plain": [
              "tensor([[4, 2],\n",
              "        [1, 4]])"
            ]
          },
          "metadata": {},
          "execution_count": 14
        }
      ]
    },
    {
      "cell_type": "markdown",
      "source": [
        "**Tensor of all zeros or ones**"
      ],
      "metadata": {
        "id": "2_EVmsGIqvUI"
      }
    },
    {
      "cell_type": "code",
      "source": [
        "zeros = torch.zeros(size=(2,3))\n",
        "ones = torch.ones(size=(2,3))\n",
        "print(zeros,'\\n')\n",
        "print(ones)"
      ],
      "metadata": {
        "colab": {
          "base_uri": "https://localhost:8080/"
        },
        "id": "Yaog8Aw7q5RD",
        "outputId": "ca416c56-1351-4bf1-8380-2df775bc64f2"
      },
      "execution_count": 15,
      "outputs": [
        {
          "output_type": "stream",
          "name": "stdout",
          "text": [
            "tensor([[0., 0., 0.],\n",
            "        [0., 0., 0.]]) \n",
            "\n",
            "tensor([[1., 1., 1.],\n",
            "        [1., 1., 1.]])\n"
          ]
        }
      ]
    },
    {
      "cell_type": "code",
      "source": [
        "print(zeros.dtype)"
      ],
      "metadata": {
        "colab": {
          "base_uri": "https://localhost:8080/"
        },
        "id": "-HK1Vj_mrUMO",
        "outputId": "c9e1d08b-860f-4e0a-f105-2272a86d8298"
      },
      "execution_count": 16,
      "outputs": [
        {
          "output_type": "stream",
          "name": "stdout",
          "text": [
            "torch.float32\n"
          ]
        }
      ]
    },
    {
      "cell_type": "markdown",
      "source": [
        "### Manipulating the tensors"
      ],
      "metadata": {
        "id": "fvh-n3nXr1-n"
      }
    },
    {
      "cell_type": "code",
      "source": [],
      "metadata": {
        "id": "VoydmIeilz0w"
      },
      "execution_count": null,
      "outputs": []
    }
  ]
}