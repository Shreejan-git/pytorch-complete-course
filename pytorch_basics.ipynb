{
  "nbformat": 4,
  "nbformat_minor": 0,
  "metadata": {
    "colab": {
      "provenance": [],
      "authorship_tag": "ABX9TyM3U+mjQj5sBsQiHNErRZOW",
      "include_colab_link": true
    },
    "kernelspec": {
      "name": "python3",
      "display_name": "Python 3"
    },
    "language_info": {
      "name": "python"
    }
  },
  "cells": [
    {
      "cell_type": "markdown",
      "metadata": {
        "id": "view-in-github",
        "colab_type": "text"
      },
      "source": [
        "<a href=\"https://colab.research.google.com/github/Shreejan-git/pytorch-complete-course/blob/main/pytorch_basics.ipynb\" target=\"_parent\"><img src=\"https://colab.research.google.com/assets/colab-badge.svg\" alt=\"Open In Colab\"/></a>"
      ]
    },
    {
      "cell_type": "code",
      "execution_count": 1,
      "metadata": {
        "colab": {
          "base_uri": "https://localhost:8080/"
        },
        "id": "E1OHGzGRYEGp",
        "outputId": "bacc225e-29e1-4829-c580-bbb5991c28ac"
      },
      "outputs": [
        {
          "output_type": "stream",
          "name": "stdout",
          "text": [
            "/bin/bash: line 1: nvidia-smi: command not found\n"
          ]
        }
      ],
      "source": [
        "!nvidia-smi"
      ]
    },
    {
      "cell_type": "code",
      "source": [
        "import torch\n",
        "print(torch.__version__)"
      ],
      "metadata": {
        "colab": {
          "base_uri": "https://localhost:8080/"
        },
        "id": "Pq0RUARRYQiX",
        "outputId": "c642f090-e905-40ab-b56c-c5aee3180f67"
      },
      "execution_count": 2,
      "outputs": [
        {
          "output_type": "stream",
          "name": "stdout",
          "text": [
            "2.0.1+cu118\n"
          ]
        }
      ]
    },
    {
      "cell_type": "markdown",
      "source": [
        "**Tensor datatypes**\n",
        "\n",
        "Default datatype in torch in float32 for float and int64 for int"
      ],
      "metadata": {
        "id": "XBhLQXk6gk7y"
      }
    },
    {
      "cell_type": "code",
      "source": [
        "type_32 = torch.tensor(2.0,\n",
        "                       dtype=None,\n",
        "                       device=None,\n",
        "                       requires_grad=False)\n",
        "\n",
        "print(type_32, type_32.dtype)"
      ],
      "metadata": {
        "colab": {
          "base_uri": "https://localhost:8080/"
        },
        "id": "NZ2T-_2vg9eu",
        "outputId": "a4789388-65c9-45ff-9d3e-64d97e2c4baa"
      },
      "execution_count": 3,
      "outputs": [
        {
          "output_type": "stream",
          "name": "stdout",
          "text": [
            "tensor(2.) torch.float32\n"
          ]
        }
      ]
    },
    {
      "cell_type": "code",
      "source": [
        "type_16 = type_32.type(torch.float16)\n",
        "type_16"
      ],
      "metadata": {
        "colab": {
          "base_uri": "https://localhost:8080/"
        },
        "id": "6x7JI5_pjDx4",
        "outputId": "4684836e-ca8b-4aea-9ac3-edbd91f91a63"
      },
      "execution_count": 4,
      "outputs": [
        {
          "output_type": "execute_result",
          "data": {
            "text/plain": [
              "tensor(2., dtype=torch.float16)"
            ]
          },
          "metadata": {},
          "execution_count": 4
        }
      ]
    },
    {
      "cell_type": "code",
      "source": [
        "a = type_16 * type_32\n",
        "print(a, a.dtype)"
      ],
      "metadata": {
        "colab": {
          "base_uri": "https://localhost:8080/"
        },
        "id": "iDrnx0o7jgQc",
        "outputId": "b5a33a5e-4742-4a84-a365-c18631d82782"
      },
      "execution_count": 5,
      "outputs": [
        {
          "output_type": "stream",
          "name": "stdout",
          "text": [
            "tensor(4.) torch.float32\n"
          ]
        }
      ]
    },
    {
      "cell_type": "code",
      "source": [
        "type_32_vector = torch.tensor([1.0,2.0,3.0])\n",
        "print(type_32_vector, type_32_vector.dtype)"
      ],
      "metadata": {
        "colab": {
          "base_uri": "https://localhost:8080/"
        },
        "id": "Ysx8kRvsjttz",
        "outputId": "e26d3109-fb77-4321-c56d-9520b849135f"
      },
      "execution_count": 6,
      "outputs": [
        {
          "output_type": "stream",
          "name": "stdout",
          "text": [
            "tensor([1., 2., 3.]) torch.float32\n"
          ]
        }
      ]
    },
    {
      "cell_type": "code",
      "source": [
        "type_16_vector = type_32_vector.type(torch.float16)\n",
        "print(type_16_vector)"
      ],
      "metadata": {
        "colab": {
          "base_uri": "https://localhost:8080/"
        },
        "id": "xzs3vBfGj8yZ",
        "outputId": "170f6884-7b84-4cf1-e966-9f49aa30cf59"
      },
      "execution_count": 7,
      "outputs": [
        {
          "output_type": "stream",
          "name": "stdout",
          "text": [
            "tensor([1., 2., 3.], dtype=torch.float16)\n"
          ]
        }
      ]
    },
    {
      "cell_type": "code",
      "source": [
        "b = type_16_vector * type_32_vector\n",
        "print(b, b.dtype)"
      ],
      "metadata": {
        "colab": {
          "base_uri": "https://localhost:8080/"
        },
        "id": "ZBWEqJhEj8Rj",
        "outputId": "79a7fd4b-17e2-4904-9088-ba56abb04eff"
      },
      "execution_count": 8,
      "outputs": [
        {
          "output_type": "stream",
          "name": "stdout",
          "text": [
            "tensor([1., 4., 9.]) torch.float32\n"
          ]
        }
      ]
    },
    {
      "cell_type": "markdown",
      "source": [
        "**Introduction to the tensor**\n"
      ],
      "metadata": {
        "id": "t4kxYCoMZpa_"
      }
    },
    {
      "cell_type": "code",
      "source": [
        "scaler = torch.tensor(7)\n",
        "scaler # type will be tensor-type"
      ],
      "metadata": {
        "colab": {
          "base_uri": "https://localhost:8080/"
        },
        "id": "yeHjQW7qaV93",
        "outputId": "8cbcbad9-e9da-411e-aacd-f0ce3a87745b"
      },
      "execution_count": 9,
      "outputs": [
        {
          "output_type": "execute_result",
          "data": {
            "text/plain": [
              "tensor(7)"
            ]
          },
          "metadata": {},
          "execution_count": 9
        }
      ]
    },
    {
      "cell_type": "code",
      "source": [
        "scaler.ndim # scaler does not have a dimension"
      ],
      "metadata": {
        "colab": {
          "base_uri": "https://localhost:8080/"
        },
        "id": "v_mq1CJbcI9n",
        "outputId": "5902d01a-5182-4fd2-cfc8-e4441f06715e"
      },
      "execution_count": 10,
      "outputs": [
        {
          "output_type": "execute_result",
          "data": {
            "text/plain": [
              "0"
            ]
          },
          "metadata": {},
          "execution_count": 10
        }
      ]
    },
    {
      "cell_type": "code",
      "source": [
        "scaler.item() # to get the python int instead of tensor-type scaler"
      ],
      "metadata": {
        "colab": {
          "base_uri": "https://localhost:8080/"
        },
        "id": "zS1nJLG3cRnR",
        "outputId": "59527123-009e-4f63-82b5-7aaa5de95d32"
      },
      "execution_count": 11,
      "outputs": [
        {
          "output_type": "execute_result",
          "data": {
            "text/plain": [
              "7"
            ]
          },
          "metadata": {},
          "execution_count": 11
        }
      ]
    },
    {
      "cell_type": "markdown",
      "source": [
        "**Defining a vector**\n"
      ],
      "metadata": {
        "id": "wekDBMnqgMG8"
      }
    },
    {
      "cell_type": "code",
      "source": [
        "vec = torch.tensor([1,2])\n",
        "print(vec)\n",
        "print('type:', type(vec)) # type will be torch.Tensor\n",
        "print('dimension:', vec.ndim) # vector will have 1 dimension\n",
        "print('shape:', vec.shape) # shape will show the num of elements"
      ],
      "metadata": {
        "colab": {
          "base_uri": "https://localhost:8080/"
        },
        "id": "6iECTtRacn5c",
        "outputId": "5aef712f-32ac-4303-bd65-33d4064562ab"
      },
      "execution_count": 12,
      "outputs": [
        {
          "output_type": "stream",
          "name": "stdout",
          "text": [
            "tensor([1, 2])\n",
            "type: <class 'torch.Tensor'>\n",
            "dimension: 1\n",
            "shape: torch.Size([2])\n"
          ]
        }
      ]
    },
    {
      "cell_type": "markdown",
      "source": [
        "**Defining the matrix/tensor**\n",
        "\n",
        "*Imp: matrix and tensor must be defined with the capital letters*"
      ],
      "metadata": {
        "id": "6J-UtkaTfk9_"
      }
    },
    {
      "cell_type": "code",
      "source": [
        "# Two dimention tensor\n",
        "MAT = torch.tensor([[1,2],\n",
        "                    [3,4]])"
      ],
      "metadata": {
        "id": "KnrieZ1FdcMD"
      },
      "execution_count": 13,
      "outputs": []
    },
    {
      "cell_type": "code",
      "source": [
        "print(MAT) # two dimension matrix\n",
        "print('dimension:', MAT.ndim)\n",
        "print('shape:', MAT.shape)"
      ],
      "metadata": {
        "colab": {
          "base_uri": "https://localhost:8080/"
        },
        "id": "c04YDOJwdxQA",
        "outputId": "7f7a85e9-70d9-4c30-c109-f65a85398cd5"
      },
      "execution_count": 14,
      "outputs": [
        {
          "output_type": "stream",
          "name": "stdout",
          "text": [
            "tensor([[1, 2],\n",
            "        [3, 4]])\n",
            "dimension: 2\n",
            "shape: torch.Size([2, 2])\n"
          ]
        }
      ]
    },
    {
      "cell_type": "code",
      "source": [
        "# accessing the values\n",
        "print(MAT[0]) # first row, i.e [1,2]\n",
        "print(MAT[1]) # second row, i.e [3,4]"
      ],
      "metadata": {
        "colab": {
          "base_uri": "https://localhost:8080/"
        },
        "id": "Lwu9x_olfwm-",
        "outputId": "6cdb0d5b-f34a-4295-9a0a-2bd457f5f417"
      },
      "execution_count": 15,
      "outputs": [
        {
          "output_type": "stream",
          "name": "stdout",
          "text": [
            "tensor([1, 2])\n",
            "tensor([3, 4])\n"
          ]
        }
      ]
    },
    {
      "cell_type": "code",
      "source": [
        "print(MAT[0][1]) # first row's 2nd element, i.e. [2]"
      ],
      "metadata": {
        "colab": {
          "base_uri": "https://localhost:8080/"
        },
        "id": "43n1JWxdf-HW",
        "outputId": "916980e5-befd-4e94-e94e-c4ed8e57e5f5"
      },
      "execution_count": 16,
      "outputs": [
        {
          "output_type": "stream",
          "name": "stdout",
          "text": [
            "tensor(2)\n"
          ]
        }
      ]
    },
    {
      "cell_type": "markdown",
      "source": [
        "*three dimension tensor*\n",
        "\n",
        "torch.tensor([\n",
        "  [ ],\n",
        "  [ ],\n",
        "  [ ],\n",
        "])\n",
        "\n",
        "In layman term: creating a three dim tensor is simply placing the multiple two_dim tensors inside a square bracket."
      ],
      "metadata": {
        "id": "fdz45JaCeoyt"
      }
    },
    {
      "cell_type": "code",
      "source": [
        "# 3 two_dim tensors inside a square bracket!\n",
        "# all 3 two_dim tensors are of (2,3) shape\n",
        "# so the overall shape of the below three_dim tensor will be [3,2,3].\n",
        "THREEDIM = torch.tensor([\n",
        "    [[1,2,3],[14,14,14]],\n",
        "\n",
        "    [[11,22,33],[45,45,45]],\n",
        "\n",
        "    [[111,222,333],[445,445,445]],\n",
        "    ])\n",
        "print(THREEDIM)\n",
        "print('dimension:',THREEDIM.ndim)\n",
        "print('shape:', THREEDIM.shape)"
      ],
      "metadata": {
        "colab": {
          "base_uri": "https://localhost:8080/"
        },
        "id": "GNZCBMupeDdt",
        "outputId": "0f911abb-bc1c-43d5-f04d-f64a1ad201d7"
      },
      "execution_count": 17,
      "outputs": [
        {
          "output_type": "stream",
          "name": "stdout",
          "text": [
            "tensor([[[  1,   2,   3],\n",
            "         [ 14,  14,  14]],\n",
            "\n",
            "        [[ 11,  22,  33],\n",
            "         [ 45,  45,  45]],\n",
            "\n",
            "        [[111, 222, 333],\n",
            "         [445, 445, 445]]])\n",
            "dimension: 3\n",
            "shape: torch.Size([3, 2, 3])\n"
          ]
        }
      ]
    },
    {
      "cell_type": "code",
      "source": [
        "print('accessing 1st row of 1st 2_dim tensor:', THREEDIM[0][0])\n",
        "print('accessing 1st row of 3rd 2_dim tensor:', THREEDIM[2][0])"
      ],
      "metadata": {
        "colab": {
          "base_uri": "https://localhost:8080/"
        },
        "id": "2sAx5Sd5hc2A",
        "outputId": "6de37635-b8d3-454c-f29f-cd6d7d50cbb1"
      },
      "execution_count": 18,
      "outputs": [
        {
          "output_type": "stream",
          "name": "stdout",
          "text": [
            "accessing 1st row of 1st 2_dim tensor: tensor([1, 2, 3])\n",
            "accessing 1st row of 3rd 2_dim tensor: tensor([111, 222, 333])\n"
          ]
        }
      ]
    },
    {
      "cell_type": "markdown",
      "source": [
        "**Creating a random value tensor**"
      ],
      "metadata": {
        "id": "wFEd-VZrki3n"
      }
    },
    {
      "cell_type": "code",
      "source": [
        "RANDOMTENSOR = torch.rand(5,2)\n",
        "RANDOMTENSOR"
      ],
      "metadata": {
        "colab": {
          "base_uri": "https://localhost:8080/"
        },
        "id": "3efRBhyTbBfJ",
        "outputId": "d0ee9ac3-4e75-40bc-84b1-e90794691be9"
      },
      "execution_count": 19,
      "outputs": [
        {
          "output_type": "execute_result",
          "data": {
            "text/plain": [
              "tensor([[0.1207, 0.8634],\n",
              "        [0.5946, 0.4036],\n",
              "        [0.6168, 0.7756],\n",
              "        [0.9632, 0.1509],\n",
              "        [0.7117, 0.6069]])"
            ]
          },
          "metadata": {},
          "execution_count": 19
        }
      ]
    },
    {
      "cell_type": "markdown",
      "source": [
        "We need to be familiar with the random tensor because neural network's weights are created similarly."
      ],
      "metadata": {
        "id": "Ga0Xjk_goLcI"
      }
    },
    {
      "cell_type": "code",
      "source": [
        "RANDOM_INT_TENSOR = torch.randint(low=1, high=5, size=(2,2))  # creating a random-valued tensor with values in-between 1 and 5 with shape 2,2\n",
        "RANDOM_INT_TENSOR"
      ],
      "metadata": {
        "colab": {
          "base_uri": "https://localhost:8080/"
        },
        "id": "YjlEsVX5lo1p",
        "outputId": "3bc74072-1ad5-47f7-f419-ef8fccb90e98"
      },
      "execution_count": 20,
      "outputs": [
        {
          "output_type": "execute_result",
          "data": {
            "text/plain": [
              "tensor([[3, 1],\n",
              "        [4, 2]])"
            ]
          },
          "metadata": {},
          "execution_count": 20
        }
      ]
    },
    {
      "cell_type": "markdown",
      "source": [
        "**Tensor of all zeros or ones**"
      ],
      "metadata": {
        "id": "2_EVmsGIqvUI"
      }
    },
    {
      "cell_type": "code",
      "source": [
        "zeros = torch.zeros(size=(2,3))\n",
        "ones = torch.ones(size=(2,3))\n",
        "print(zeros,'\\n')\n",
        "print(ones)"
      ],
      "metadata": {
        "colab": {
          "base_uri": "https://localhost:8080/"
        },
        "id": "Yaog8Aw7q5RD",
        "outputId": "74fb5685-b99c-4453-885f-3150981d6251"
      },
      "execution_count": 21,
      "outputs": [
        {
          "output_type": "stream",
          "name": "stdout",
          "text": [
            "tensor([[0., 0., 0.],\n",
            "        [0., 0., 0.]]) \n",
            "\n",
            "tensor([[1., 1., 1.],\n",
            "        [1., 1., 1.]])\n"
          ]
        }
      ]
    },
    {
      "cell_type": "code",
      "source": [
        "print(zeros.dtype)"
      ],
      "metadata": {
        "colab": {
          "base_uri": "https://localhost:8080/"
        },
        "id": "-HK1Vj_mrUMO",
        "outputId": "725d264e-fbb4-46ea-8380-2a91314e4def"
      },
      "execution_count": 22,
      "outputs": [
        {
          "output_type": "stream",
          "name": "stdout",
          "text": [
            "torch.float32\n"
          ]
        }
      ]
    },
    {
      "cell_type": "markdown",
      "source": [
        "### Manipulating the tensors"
      ],
      "metadata": {
        "id": "fvh-n3nXr1-n"
      }
    },
    {
      "cell_type": "code",
      "source": [
        "# adding a number element-wise\n",
        "sample = torch.tensor([1,2,3])\n",
        "print(sample)"
      ],
      "metadata": {
        "colab": {
          "base_uri": "https://localhost:8080/"
        },
        "id": "VoydmIeilz0w",
        "outputId": "65c3e238-573c-4d0e-e13b-091703411045"
      },
      "execution_count": 23,
      "outputs": [
        {
          "output_type": "stream",
          "name": "stdout",
          "text": [
            "tensor([1, 2, 3])\n"
          ]
        }
      ]
    },
    {
      "cell_type": "code",
      "source": [
        "add_5 = sample + 5\n",
        "print(add_5)"
      ],
      "metadata": {
        "colab": {
          "base_uri": "https://localhost:8080/"
        },
        "id": "tSEFMFvLoZWV",
        "outputId": "f0348d2b-401b-4e8e-cfe5-9e8e7dbbc02f"
      },
      "execution_count": 24,
      "outputs": [
        {
          "output_type": "stream",
          "name": "stdout",
          "text": [
            "tensor([6, 7, 8])\n"
          ]
        }
      ]
    },
    {
      "cell_type": "code",
      "source": [
        "using_function = torch.add(sample, 5)\n",
        "print(using_function)"
      ],
      "metadata": {
        "colab": {
          "base_uri": "https://localhost:8080/"
        },
        "id": "Z4_YnZwloden",
        "outputId": "711848b3-2bb7-48f5-921e-229e688b8d27"
      },
      "execution_count": 25,
      "outputs": [
        {
          "output_type": "stream",
          "name": "stdout",
          "text": [
            "tensor([6, 7, 8])\n"
          ]
        }
      ]
    },
    {
      "cell_type": "code",
      "source": [
        "# element-wise multiplication\n",
        "mul_5 = sample * 5\n",
        "print(mul_5)"
      ],
      "metadata": {
        "colab": {
          "base_uri": "https://localhost:8080/"
        },
        "id": "_EjwplQDomO2",
        "outputId": "f5a4746f-6798-4b11-a09f-9ec34d6e560d"
      },
      "execution_count": 26,
      "outputs": [
        {
          "output_type": "stream",
          "name": "stdout",
          "text": [
            "tensor([ 5, 10, 15])\n"
          ]
        }
      ]
    },
    {
      "cell_type": "code",
      "source": [
        "using_function = torch.mul(sample, 5)\n",
        "using_function"
      ],
      "metadata": {
        "colab": {
          "base_uri": "https://localhost:8080/"
        },
        "id": "JeAqvG1GowG8",
        "outputId": "7fe14c1a-7b81-4fe5-f6fe-f32947015f99"
      },
      "execution_count": 27,
      "outputs": [
        {
          "output_type": "execute_result",
          "data": {
            "text/plain": [
              "tensor([ 5, 10, 15])"
            ]
          },
          "metadata": {},
          "execution_count": 27
        }
      ]
    },
    {
      "cell_type": "code",
      "source": [
        "# Matrix multiplication (dot product)\n",
        "vec_1 = torch.tensor([1,2,3])\n",
        "print(vec_1)"
      ],
      "metadata": {
        "colab": {
          "base_uri": "https://localhost:8080/"
        },
        "id": "mvBo7t0So04C",
        "outputId": "8f131237-f77c-47fb-b788-1208d40306a1"
      },
      "execution_count": 28,
      "outputs": [
        {
          "output_type": "stream",
          "name": "stdout",
          "text": [
            "tensor([1, 2, 3])\n"
          ]
        }
      ]
    },
    {
      "cell_type": "code",
      "source": [
        "vec_2 = torch.tensor([4,5,6])\n",
        "print(vec_2)"
      ],
      "metadata": {
        "colab": {
          "base_uri": "https://localhost:8080/"
        },
        "id": "1lK8HXtVp1dU",
        "outputId": "e7e5ee0f-8d30-49ff-bef0-f34643a99de9"
      },
      "execution_count": 29,
      "outputs": [
        {
          "output_type": "stream",
          "name": "stdout",
          "text": [
            "tensor([4, 5, 6])\n"
          ]
        }
      ]
    },
    {
      "cell_type": "code",
      "source": [
        "# (1*4 + 2*5 + 3*6) = 32\n",
        "print(torch.matmul(vec_1, vec_2))"
      ],
      "metadata": {
        "colab": {
          "base_uri": "https://localhost:8080/"
        },
        "id": "TcXNxmrZrIAW",
        "outputId": "e9aef95f-d117-4b01-ba5e-50d0670b125d"
      },
      "execution_count": 30,
      "outputs": [
        {
          "output_type": "stream",
          "name": "stdout",
          "text": [
            "tensor(32)\n"
          ]
        }
      ]
    },
    {
      "cell_type": "markdown",
      "source": [
        "Using the torch's built-in functions are fast."
      ],
      "metadata": {
        "id": "5HKaV_tVrVeS"
      }
    },
    {
      "cell_type": "code",
      "source": [
        "%%time\n",
        "val = 0\n",
        "for i in range(len(vec_1)):\n",
        "  val += vec_1[i] * vec_2[i]\n",
        "print(val)\n"
      ],
      "metadata": {
        "colab": {
          "base_uri": "https://localhost:8080/"
        },
        "id": "ZHADe0F8rLIv",
        "outputId": "f1050056-1428-4ace-b716-3887508dc816"
      },
      "execution_count": 51,
      "outputs": [
        {
          "output_type": "stream",
          "name": "stdout",
          "text": [
            "tensor(32)\n",
            "CPU times: user 2.19 ms, sys: 0 ns, total: 2.19 ms\n",
            "Wall time: 2.15 ms\n"
          ]
        }
      ]
    },
    {
      "cell_type": "code",
      "source": [
        "%%time\n",
        "print(torch.matmul(vec_1, vec_2))"
      ],
      "metadata": {
        "colab": {
          "base_uri": "https://localhost:8080/"
        },
        "id": "UA6WAxItr5mU",
        "outputId": "b3e8ae28-92fc-4265-fb05-dcfd7390fb31"
      },
      "execution_count": 32,
      "outputs": [
        {
          "output_type": "stream",
          "name": "stdout",
          "text": [
            "tensor(32)\n",
            "CPU times: user 418 µs, sys: 0 ns, total: 418 µs\n",
            "Wall time: 425 µs\n"
          ]
        }
      ]
    },
    {
      "cell_type": "markdown",
      "source": [
        "Min, Max, sum, mean functions"
      ],
      "metadata": {
        "id": "-EQ8vj-hVAOc"
      }
    },
    {
      "cell_type": "code",
      "source": [
        "print(vec_1)"
      ],
      "metadata": {
        "colab": {
          "base_uri": "https://localhost:8080/"
        },
        "id": "DZYbU1uPVFeP",
        "outputId": "636d686a-403a-4e48-cc27-38a05744521c"
      },
      "execution_count": 38,
      "outputs": [
        {
          "output_type": "stream",
          "name": "stdout",
          "text": [
            "tensor([1, 2, 3])\n"
          ]
        }
      ]
    },
    {
      "cell_type": "code",
      "source": [
        "# two ways\n",
        "print(vec_1.min())\n",
        "print(torch.min(vec_1))"
      ],
      "metadata": {
        "colab": {
          "base_uri": "https://localhost:8080/"
        },
        "id": "myw1n-VxVGXA",
        "outputId": "2058cf0e-292b-4658-9a00-9e470ed8d070"
      },
      "execution_count": 39,
      "outputs": [
        {
          "output_type": "stream",
          "name": "stdout",
          "text": [
            "tensor(1)\n",
            "tensor(1)\n"
          ]
        }
      ]
    },
    {
      "cell_type": "code",
      "source": [
        "print(vec_1.max())\n",
        "print(torch.max(vec_1))"
      ],
      "metadata": {
        "colab": {
          "base_uri": "https://localhost:8080/"
        },
        "id": "Yz9xdSW-Y8Ql",
        "outputId": "1f1a60a3-7520-45dd-e06c-7f8acb6ad4e8"
      },
      "execution_count": 40,
      "outputs": [
        {
          "output_type": "stream",
          "name": "stdout",
          "text": [
            "tensor(3)\n",
            "tensor(3)\n"
          ]
        }
      ]
    },
    {
      "cell_type": "code",
      "source": [
        "print(vec_1.sum())\n",
        "print(torch.sum(vec_1))"
      ],
      "metadata": {
        "colab": {
          "base_uri": "https://localhost:8080/"
        },
        "id": "zTx4T9_bZChH",
        "outputId": "67c5843a-c5f9-4df9-ca44-4fc583ad2c3b"
      },
      "execution_count": 45,
      "outputs": [
        {
          "output_type": "stream",
          "name": "stdout",
          "text": [
            "tensor(6)\n",
            "tensor(6)\n"
          ]
        }
      ]
    },
    {
      "cell_type": "code",
      "source": [
        "print(vec_1.dtype)"
      ],
      "metadata": {
        "colab": {
          "base_uri": "https://localhost:8080/"
        },
        "id": "526IapFLZHO5",
        "outputId": "35887975-2a5e-4281-a01c-ced84770b63a"
      },
      "execution_count": 46,
      "outputs": [
        {
          "output_type": "stream",
          "name": "stdout",
          "text": [
            "torch.int64\n"
          ]
        }
      ]
    },
    {
      "cell_type": "code",
      "source": [
        "print(torch.mean(vec_1)) # we can not calculate the mean with int64 or long type"
      ],
      "metadata": {
        "colab": {
          "base_uri": "https://localhost:8080/",
          "height": 234
        },
        "id": "gVIShkYRZSKQ",
        "outputId": "386f1189-8c32-40cb-ccd3-3f133807faf3"
      },
      "execution_count": 47,
      "outputs": [
        {
          "output_type": "error",
          "ename": "RuntimeError",
          "evalue": "ignored",
          "traceback": [
            "\u001b[0;31m---------------------------------------------------------------------------\u001b[0m",
            "\u001b[0;31mRuntimeError\u001b[0m                              Traceback (most recent call last)",
            "\u001b[0;32m<ipython-input-47-153073500e75>\u001b[0m in \u001b[0;36m<cell line: 1>\u001b[0;34m()\u001b[0m\n\u001b[0;32m----> 1\u001b[0;31m \u001b[0mprint\u001b[0m\u001b[0;34m(\u001b[0m\u001b[0mtorch\u001b[0m\u001b[0;34m.\u001b[0m\u001b[0mmean\u001b[0m\u001b[0;34m(\u001b[0m\u001b[0mvec_1\u001b[0m\u001b[0;34m)\u001b[0m\u001b[0;34m)\u001b[0m\u001b[0;34m\u001b[0m\u001b[0;34m\u001b[0m\u001b[0m\n\u001b[0m",
            "\u001b[0;31mRuntimeError\u001b[0m: mean(): could not infer output dtype. Input dtype must be either a floating point or complex dtype. Got: Long"
          ]
        }
      ]
    },
    {
      "cell_type": "code",
      "source": [
        "print(torch.mean(vec_1.type(torch.float32)))  # Changing the type to float 32 and calculating the mean."
      ],
      "metadata": {
        "colab": {
          "base_uri": "https://localhost:8080/"
        },
        "id": "maYAp3NuZcnn",
        "outputId": "36242059-dcd2-4886-b2cd-459e521a4b33"
      },
      "execution_count": 49,
      "outputs": [
        {
          "output_type": "stream",
          "name": "stdout",
          "text": [
            "tensor(2.)\n"
          ]
        }
      ]
    },
    {
      "cell_type": "markdown",
      "source": [
        "##Reshaping, Stacking, Squeeze, Unsqueeze\n",
        "\n"
      ],
      "metadata": {
        "id": "Z0rhl-5DTUVO"
      }
    },
    {
      "cell_type": "code",
      "source": [
        "vec = torch.arange(1.0, 16.0)\n",
        "print(f\"vec: {vec}\")\n",
        "print(f\"\\nShape of the vec: {vec.shape}\")"
      ],
      "metadata": {
        "colab": {
          "base_uri": "https://localhost:8080/"
        },
        "id": "EsxCfySEUx9v",
        "outputId": "ba1b22c2-305d-4669-b1f1-96db49939259"
      },
      "execution_count": 58,
      "outputs": [
        {
          "output_type": "stream",
          "name": "stdout",
          "text": [
            "vec: tensor([ 1.,  2.,  3.,  4.,  5.,  6.,  7.,  8.,  9., 10., 11., 12., 13., 14.,\n",
            "        15.])\n",
            "\n",
            "Shape of the vec: torch.Size([15])\n"
          ]
        }
      ]
    },
    {
      "cell_type": "markdown",
      "source": [
        "**reshaping**"
      ],
      "metadata": {
        "id": "2ufHK6aoac0W"
      }
    },
    {
      "cell_type": "code",
      "source": [
        "reshaped_vec = vec.reshape(3,5)\n",
        "print(f\"Reshaped vec: {reshaped_vec}\")\n",
        "print(f\"\\nShape of the reshaped vec: {reshaped_vec.shape}\")"
      ],
      "metadata": {
        "colab": {
          "base_uri": "https://localhost:8080/"
        },
        "id": "_8dYhB8QZ56h",
        "outputId": "4c87b500-9d93-4044-b02b-a349bc818e2a"
      },
      "execution_count": 60,
      "outputs": [
        {
          "output_type": "stream",
          "name": "stdout",
          "text": [
            "Reshaped vec: tensor([[ 1.,  2.,  3.,  4.,  5.],\n",
            "        [ 6.,  7.,  8.,  9., 10.],\n",
            "        [11., 12., 13., 14., 15.]])\n",
            "\n",
            "Shape of the reshaped vec: torch.Size([3, 5])\n"
          ]
        }
      ]
    },
    {
      "cell_type": "markdown",
      "source": [
        "**Squeeze**"
      ],
      "metadata": {
        "id": "AO1zyk7qaNUZ"
      }
    },
    {
      "cell_type": "code",
      "source": [
        "vec = vec.reshape(1,15)\n",
        "print(f\"Shape of new vec: {vec.shape}\")"
      ],
      "metadata": {
        "colab": {
          "base_uri": "https://localhost:8080/"
        },
        "id": "qwWBc_AEai00",
        "outputId": "663657d4-29a7-4775-9c95-7cb05449a935"
      },
      "execution_count": 62,
      "outputs": [
        {
          "output_type": "stream",
          "name": "stdout",
          "text": [
            "Shape of new vec: torch.Size([1, 15])\n"
          ]
        }
      ]
    },
    {
      "cell_type": "code",
      "source": [
        "#Squeeze will remove all of the single dimension from a tensor\n",
        "squeezed_vec = vec.squeeze()\n",
        "print(f\"Squeezed vec: {squeezed_vec}\")\n",
        "print(f\"\\nShape of the squeezed vec: {squeezed_vec.shape}\")"
      ],
      "metadata": {
        "colab": {
          "base_uri": "https://localhost:8080/"
        },
        "id": "-LBcm2AFawui",
        "outputId": "da7a6317-e453-4e06-a40e-25de7aceee98"
      },
      "execution_count": 65,
      "outputs": [
        {
          "output_type": "stream",
          "name": "stdout",
          "text": [
            "Squeezed vec: tensor([ 1.,  2.,  3.,  4.,  5.,  6.,  7.,  8.,  9., 10., 11., 12., 13., 14.,\n",
            "        15.])\n",
            "\n",
            "Shape of the squeezed vec: torch.Size([15])\n"
          ]
        }
      ]
    },
    {
      "cell_type": "markdown",
      "source": [
        ".squeeze has removed the single dimension"
      ],
      "metadata": {
        "id": "unPE73eibTHL"
      }
    },
    {
      "cell_type": "markdown",
      "source": [
        "**unsqueeze**"
      ],
      "metadata": {
        "id": "pOgnLj-WcYk2"
      }
    },
    {
      "cell_type": "code",
      "source": [
        "# unsqueeze add the single dimension on the targetd axis\n",
        "unsqueezed_vec = squeezed_vec.unsqueeze(dim=0)\n",
        "print(f\"Unsqueezed vec: {unsqueezed_vec}\")\n",
        "print(f\"\\n Shape of Unsqueezed vec: {unsqueezed_vec.shape}\")"
      ],
      "metadata": {
        "colab": {
          "base_uri": "https://localhost:8080/"
        },
        "id": "um4NWfE7bmIt",
        "outputId": "4ffc800c-745d-4832-8923-13d88135e8b8"
      },
      "execution_count": 66,
      "outputs": [
        {
          "output_type": "stream",
          "name": "stdout",
          "text": [
            "Unsqueezed vec: tensor([[ 1.,  2.,  3.,  4.,  5.,  6.,  7.,  8.,  9., 10., 11., 12., 13., 14.,\n",
            "         15.]])\n",
            "\n",
            " Shape of Unsqueezed vec: torch.Size([1, 15])\n"
          ]
        }
      ]
    },
    {
      "cell_type": "code",
      "source": [
        "# unsqueeze add the single dimension on the targetd axis\n",
        "unsqueezed_vec = squeezed_vec.unsqueeze(dim=1)\n",
        "print(f\"Unsqueezed vec: {unsqueezed_vec}\")\n",
        "print(f\"\\n Shape of Unsqueezed vec: {unsqueezed_vec.shape}\")"
      ],
      "metadata": {
        "colab": {
          "base_uri": "https://localhost:8080/"
        },
        "id": "uo_-7sntb8Nz",
        "outputId": "48cd466f-f11f-4ab2-b61f-af873aa85f12"
      },
      "execution_count": 67,
      "outputs": [
        {
          "output_type": "stream",
          "name": "stdout",
          "text": [
            "Unsqueezed vec: tensor([[ 1.],\n",
            "        [ 2.],\n",
            "        [ 3.],\n",
            "        [ 4.],\n",
            "        [ 5.],\n",
            "        [ 6.],\n",
            "        [ 7.],\n",
            "        [ 8.],\n",
            "        [ 9.],\n",
            "        [10.],\n",
            "        [11.],\n",
            "        [12.],\n",
            "        [13.],\n",
            "        [14.],\n",
            "        [15.]])\n",
            "\n",
            " Shape of Unsqueezed vec: torch.Size([15, 1])\n"
          ]
        }
      ]
    },
    {
      "cell_type": "markdown",
      "source": [
        "**Permute: Used while working with the image data to swap the position from (height, width, channel) to (channel, height, width) or according to our need.**\n"
      ],
      "metadata": {
        "id": "NTVtPdRScGL8"
      }
    },
    {
      "cell_type": "code",
      "source": [
        "vec = torch.rand(size=(5,5,3))\n",
        "print(vec)\n",
        "print(vec.shape)"
      ],
      "metadata": {
        "colab": {
          "base_uri": "https://localhost:8080/"
        },
        "id": "3OM0zepzdEez",
        "outputId": "2a5f97c7-4c60-4451-dba2-f7614f722cf4"
      },
      "execution_count": 69,
      "outputs": [
        {
          "output_type": "stream",
          "name": "stdout",
          "text": [
            "tensor([[[0.5576, 0.6103, 0.2587],\n",
            "         [0.1394, 0.6890, 0.8322],\n",
            "         [0.6100, 0.1364, 0.2849],\n",
            "         [0.4934, 0.0841, 0.3674],\n",
            "         [0.3962, 0.4889, 0.2468]],\n",
            "\n",
            "        [[0.6274, 0.6244, 0.7529],\n",
            "         [0.8183, 0.3926, 0.4651],\n",
            "         [0.5436, 0.0445, 0.7933],\n",
            "         [0.4900, 0.4587, 0.8140],\n",
            "         [0.0855, 0.7494, 0.6559]],\n",
            "\n",
            "        [[0.4266, 0.8651, 0.2785],\n",
            "         [0.5638, 0.3827, 0.3116],\n",
            "         [0.8876, 0.9856, 0.5459],\n",
            "         [0.4283, 0.9644, 0.2854],\n",
            "         [0.2213, 0.7340, 0.3215]],\n",
            "\n",
            "        [[0.8021, 0.7210, 0.1461],\n",
            "         [0.3282, 0.5365, 0.8634],\n",
            "         [0.8968, 0.6211, 0.0141],\n",
            "         [0.0989, 0.8517, 0.7257],\n",
            "         [0.6526, 0.0372, 0.1969]],\n",
            "\n",
            "        [[0.1163, 0.3096, 0.5600],\n",
            "         [0.8920, 0.3508, 0.0873],\n",
            "         [0.7828, 0.3488, 0.1955],\n",
            "         [0.6666, 0.1189, 0.6886],\n",
            "         [0.0106, 0.9191, 0.1753]]])\n",
            "torch.Size([5, 5, 3])\n"
          ]
        }
      ]
    },
    {
      "cell_type": "code",
      "source": [
        "rearranged_shape = vec.permute(2,0,1)\n",
        "print(rearranged_shape.shape)"
      ],
      "metadata": {
        "colab": {
          "base_uri": "https://localhost:8080/"
        },
        "id": "OcXUvmFxd4nl",
        "outputId": "74c1d97a-5f72-46b9-bd99-233013524bf1"
      },
      "execution_count": 70,
      "outputs": [
        {
          "output_type": "stream",
          "name": "stdout",
          "text": [
            "torch.Size([3, 5, 5])\n"
          ]
        }
      ]
    },
    {
      "cell_type": "code",
      "source": [
        "print(rearranged_shape)"
      ],
      "metadata": {
        "colab": {
          "base_uri": "https://localhost:8080/"
        },
        "id": "q-8q-47PeJmb",
        "outputId": "0b32c59a-3f02-454c-b84d-514de6f06141"
      },
      "execution_count": 72,
      "outputs": [
        {
          "output_type": "stream",
          "name": "stdout",
          "text": [
            "tensor([[[0.5576, 0.1394, 0.6100, 0.4934, 0.3962],\n",
            "         [0.6274, 0.8183, 0.5436, 0.4900, 0.0855],\n",
            "         [0.4266, 0.5638, 0.8876, 0.4283, 0.2213],\n",
            "         [0.8021, 0.3282, 0.8968, 0.0989, 0.6526],\n",
            "         [0.1163, 0.8920, 0.7828, 0.6666, 0.0106]],\n",
            "\n",
            "        [[0.6103, 0.6890, 0.1364, 0.0841, 0.4889],\n",
            "         [0.6244, 0.3926, 0.0445, 0.4587, 0.7494],\n",
            "         [0.8651, 0.3827, 0.9856, 0.9644, 0.7340],\n",
            "         [0.7210, 0.5365, 0.6211, 0.8517, 0.0372],\n",
            "         [0.3096, 0.3508, 0.3488, 0.1189, 0.9191]],\n",
            "\n",
            "        [[0.2587, 0.8322, 0.2849, 0.3674, 0.2468],\n",
            "         [0.7529, 0.4651, 0.7933, 0.8140, 0.6559],\n",
            "         [0.2785, 0.3116, 0.5459, 0.2854, 0.3215],\n",
            "         [0.1461, 0.8634, 0.0141, 0.7257, 0.1969],\n",
            "         [0.5600, 0.0873, 0.1955, 0.6886, 0.1753]]])\n"
          ]
        }
      ]
    },
    {
      "cell_type": "code",
      "source": [],
      "metadata": {
        "id": "_TZYjxzJeMND"
      },
      "execution_count": null,
      "outputs": []
    }
  ]
}