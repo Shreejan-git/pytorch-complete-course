{
  "nbformat": 4,
  "nbformat_minor": 0,
  "metadata": {
    "colab": {
      "provenance": [],
      "gpuType": "T4",
      "authorship_tag": "ABX9TyP6hRj0tO/Q7hF9qCSivLxa"
    },
    "kernelspec": {
      "name": "python3",
      "display_name": "Python 3"
    },
    "language_info": {
      "name": "python"
    },
    "accelerator": "GPU"
  },
  "cells": [
    {
      "cell_type": "markdown",
      "source": [
        "##Foundamentals of Pytorch"
      ],
      "metadata": {
        "id": "5SzHBW2xIKaJ"
      }
    },
    {
      "cell_type": "code",
      "execution_count": 1,
      "metadata": {
        "colab": {
          "base_uri": "https://localhost:8080/"
        },
        "id": "E1OHGzGRYEGp",
        "outputId": "9b29efc4-b6fe-4218-fb13-2d1a2e3eee1f"
      },
      "outputs": [
        {
          "output_type": "stream",
          "name": "stdout",
          "text": [
            "Wed Sep  6 10:44:08 2023       \n",
            "+-----------------------------------------------------------------------------+\n",
            "| NVIDIA-SMI 525.105.17   Driver Version: 525.105.17   CUDA Version: 12.0     |\n",
            "|-------------------------------+----------------------+----------------------+\n",
            "| GPU  Name        Persistence-M| Bus-Id        Disp.A | Volatile Uncorr. ECC |\n",
            "| Fan  Temp  Perf  Pwr:Usage/Cap|         Memory-Usage | GPU-Util  Compute M. |\n",
            "|                               |                      |               MIG M. |\n",
            "|===============================+======================+======================|\n",
            "|   0  Tesla T4            Off  | 00000000:00:04.0 Off |                    0 |\n",
            "| N/A   47C    P8    10W /  70W |      0MiB / 15360MiB |      0%      Default |\n",
            "|                               |                      |                  N/A |\n",
            "+-------------------------------+----------------------+----------------------+\n",
            "                                                                               \n",
            "+-----------------------------------------------------------------------------+\n",
            "| Processes:                                                                  |\n",
            "|  GPU   GI   CI        PID   Type   Process name                  GPU Memory |\n",
            "|        ID   ID                                                   Usage      |\n",
            "|=============================================================================|\n",
            "|  No running processes found                                                 |\n",
            "+-----------------------------------------------------------------------------+\n"
          ]
        }
      ],
      "source": [
        "!nvidia-smi # to check the detail of the GPU we have."
      ]
    },
    {
      "cell_type": "code",
      "source": [
        "import torch\n",
        "print(torch.__version__)"
      ],
      "metadata": {
        "colab": {
          "base_uri": "https://localhost:8080/"
        },
        "id": "Pq0RUARRYQiX",
        "outputId": "71328f65-dd3b-43d1-b274-867afb816b5b"
      },
      "execution_count": 2,
      "outputs": [
        {
          "output_type": "stream",
          "name": "stdout",
          "text": [
            "2.0.1+cu118\n"
          ]
        }
      ]
    },
    {
      "cell_type": "markdown",
      "source": [
        "**Tensor datatypes**\n",
        "\n",
        "Default datatype in torch in float32 for float and int64 for int"
      ],
      "metadata": {
        "id": "XBhLQXk6gk7y"
      }
    },
    {
      "cell_type": "code",
      "source": [
        "type_32 = torch.tensor(2.0,\n",
        "                       dtype=None,\n",
        "                       device=None,\n",
        "                       requires_grad=False)\n",
        "\n",
        "print(type_32, type_32.dtype)"
      ],
      "metadata": {
        "colab": {
          "base_uri": "https://localhost:8080/"
        },
        "id": "NZ2T-_2vg9eu",
        "outputId": "d3e56f0a-cdff-4f86-8577-4119e027b9fb"
      },
      "execution_count": 3,
      "outputs": [
        {
          "output_type": "stream",
          "name": "stdout",
          "text": [
            "tensor(2.) torch.float32\n"
          ]
        }
      ]
    },
    {
      "cell_type": "code",
      "source": [
        "type_16 = type_32.type(torch.float16)\n",
        "type_16"
      ],
      "metadata": {
        "colab": {
          "base_uri": "https://localhost:8080/"
        },
        "id": "6x7JI5_pjDx4",
        "outputId": "9afb73f9-2382-46f0-bd30-278a83afbca2"
      },
      "execution_count": 4,
      "outputs": [
        {
          "output_type": "execute_result",
          "data": {
            "text/plain": [
              "tensor(2., dtype=torch.float16)"
            ]
          },
          "metadata": {},
          "execution_count": 4
        }
      ]
    },
    {
      "cell_type": "code",
      "source": [
        "a = type_16 * type_32\n",
        "print(a, a.dtype)"
      ],
      "metadata": {
        "colab": {
          "base_uri": "https://localhost:8080/"
        },
        "id": "iDrnx0o7jgQc",
        "outputId": "6839c1f9-10fe-42e2-b249-3b1004c49ba6"
      },
      "execution_count": 5,
      "outputs": [
        {
          "output_type": "stream",
          "name": "stdout",
          "text": [
            "tensor(4.) torch.float32\n"
          ]
        }
      ]
    },
    {
      "cell_type": "code",
      "source": [
        "type_32_vector = torch.tensor([1.0,2.0,3.0])\n",
        "print(type_32_vector, type_32_vector.dtype)"
      ],
      "metadata": {
        "colab": {
          "base_uri": "https://localhost:8080/"
        },
        "id": "Ysx8kRvsjttz",
        "outputId": "e5986b17-e942-4d2a-e023-524f6022c472"
      },
      "execution_count": 6,
      "outputs": [
        {
          "output_type": "stream",
          "name": "stdout",
          "text": [
            "tensor([1., 2., 3.]) torch.float32\n"
          ]
        }
      ]
    },
    {
      "cell_type": "code",
      "source": [
        "type_16_vector = type_32_vector.type(torch.float16)\n",
        "print(type_16_vector)"
      ],
      "metadata": {
        "colab": {
          "base_uri": "https://localhost:8080/"
        },
        "id": "xzs3vBfGj8yZ",
        "outputId": "da364617-d650-4bae-e463-e01a537adef5"
      },
      "execution_count": 7,
      "outputs": [
        {
          "output_type": "stream",
          "name": "stdout",
          "text": [
            "tensor([1., 2., 3.], dtype=torch.float16)\n"
          ]
        }
      ]
    },
    {
      "cell_type": "code",
      "source": [
        "b = type_16_vector * type_32_vector\n",
        "print(b, b.dtype)"
      ],
      "metadata": {
        "colab": {
          "base_uri": "https://localhost:8080/"
        },
        "id": "ZBWEqJhEj8Rj",
        "outputId": "5c425214-bf4f-4c49-f92e-9029db48c3dd"
      },
      "execution_count": 8,
      "outputs": [
        {
          "output_type": "stream",
          "name": "stdout",
          "text": [
            "tensor([1., 4., 9.]) torch.float32\n"
          ]
        }
      ]
    },
    {
      "cell_type": "markdown",
      "source": [
        "**Introduction to the tensor**\n"
      ],
      "metadata": {
        "id": "t4kxYCoMZpa_"
      }
    },
    {
      "cell_type": "code",
      "source": [
        "scaler = torch.tensor(7)\n",
        "scaler # type will be tensor-type"
      ],
      "metadata": {
        "colab": {
          "base_uri": "https://localhost:8080/"
        },
        "id": "yeHjQW7qaV93",
        "outputId": "e5686161-37d1-4aa8-fc7e-6f7e60aa5e2b"
      },
      "execution_count": 9,
      "outputs": [
        {
          "output_type": "execute_result",
          "data": {
            "text/plain": [
              "tensor(7)"
            ]
          },
          "metadata": {},
          "execution_count": 9
        }
      ]
    },
    {
      "cell_type": "code",
      "source": [
        "scaler.ndim # scaler does not have a dimension"
      ],
      "metadata": {
        "colab": {
          "base_uri": "https://localhost:8080/"
        },
        "id": "v_mq1CJbcI9n",
        "outputId": "35d42c8b-314b-4729-dedb-ea5057792c44"
      },
      "execution_count": 10,
      "outputs": [
        {
          "output_type": "execute_result",
          "data": {
            "text/plain": [
              "0"
            ]
          },
          "metadata": {},
          "execution_count": 10
        }
      ]
    },
    {
      "cell_type": "code",
      "source": [
        "scaler.item() # to get the python int instead of tensor-type scaler"
      ],
      "metadata": {
        "colab": {
          "base_uri": "https://localhost:8080/"
        },
        "id": "zS1nJLG3cRnR",
        "outputId": "fce0eb9c-e1fa-405a-c17f-b8c78c7b9110"
      },
      "execution_count": 11,
      "outputs": [
        {
          "output_type": "execute_result",
          "data": {
            "text/plain": [
              "7"
            ]
          },
          "metadata": {},
          "execution_count": 11
        }
      ]
    },
    {
      "cell_type": "markdown",
      "source": [
        "**Defining a vector**\n"
      ],
      "metadata": {
        "id": "wekDBMnqgMG8"
      }
    },
    {
      "cell_type": "code",
      "source": [
        "vec = torch.tensor([1,2])\n",
        "print(vec)\n",
        "print('type:', type(vec)) # type will be torch.Tensor\n",
        "print('dimension:', vec.ndim) # vector will have 1 dimension\n",
        "print('shape:', vec.shape) # shape will show the num of elements"
      ],
      "metadata": {
        "colab": {
          "base_uri": "https://localhost:8080/"
        },
        "id": "6iECTtRacn5c",
        "outputId": "0a327d34-2ebd-4a0d-d44c-f518860eb444"
      },
      "execution_count": 12,
      "outputs": [
        {
          "output_type": "stream",
          "name": "stdout",
          "text": [
            "tensor([1, 2])\n",
            "type: <class 'torch.Tensor'>\n",
            "dimension: 1\n",
            "shape: torch.Size([2])\n"
          ]
        }
      ]
    },
    {
      "cell_type": "markdown",
      "source": [
        "**Defining the matrix/tensor**\n",
        "\n",
        "*Imp: matrix and tensor must be defined with the capital letters*"
      ],
      "metadata": {
        "id": "6J-UtkaTfk9_"
      }
    },
    {
      "cell_type": "code",
      "source": [
        "# Two dimention tensor\n",
        "MAT = torch.tensor([[1,2],\n",
        "                    [3,4]])"
      ],
      "metadata": {
        "id": "KnrieZ1FdcMD"
      },
      "execution_count": 13,
      "outputs": []
    },
    {
      "cell_type": "code",
      "source": [
        "print(MAT) # two dimension matrix\n",
        "print('dimension:', MAT.ndim)\n",
        "print('shape:', MAT.shape)"
      ],
      "metadata": {
        "colab": {
          "base_uri": "https://localhost:8080/"
        },
        "id": "c04YDOJwdxQA",
        "outputId": "a495a73d-d4ca-4937-bc65-f49549f1b1e8"
      },
      "execution_count": 14,
      "outputs": [
        {
          "output_type": "stream",
          "name": "stdout",
          "text": [
            "tensor([[1, 2],\n",
            "        [3, 4]])\n",
            "dimension: 2\n",
            "shape: torch.Size([2, 2])\n"
          ]
        }
      ]
    },
    {
      "cell_type": "code",
      "source": [
        "# accessing the values\n",
        "print(MAT[0]) # first row, i.e [1,2]\n",
        "print(MAT[1]) # second row, i.e [3,4]"
      ],
      "metadata": {
        "colab": {
          "base_uri": "https://localhost:8080/"
        },
        "id": "Lwu9x_olfwm-",
        "outputId": "d25e9f24-0f26-43b5-8b62-191d94d304a0"
      },
      "execution_count": 15,
      "outputs": [
        {
          "output_type": "stream",
          "name": "stdout",
          "text": [
            "tensor([1, 2])\n",
            "tensor([3, 4])\n"
          ]
        }
      ]
    },
    {
      "cell_type": "code",
      "source": [
        "print(MAT[0][1]) # first row's 2nd element, i.e. [2]"
      ],
      "metadata": {
        "colab": {
          "base_uri": "https://localhost:8080/"
        },
        "id": "43n1JWxdf-HW",
        "outputId": "fda7074a-c311-441c-9a15-708d9d7d0de1"
      },
      "execution_count": 16,
      "outputs": [
        {
          "output_type": "stream",
          "name": "stdout",
          "text": [
            "tensor(2)\n"
          ]
        }
      ]
    },
    {
      "cell_type": "markdown",
      "source": [
        "*three dimension tensor*\n",
        "\n",
        "torch.tensor([\n",
        "  [ ],\n",
        "  [ ],\n",
        "  [ ],\n",
        "])\n",
        "\n",
        "In layman term: creating a three dim tensor is simply placing the multiple two_dim tensors inside a square bracket."
      ],
      "metadata": {
        "id": "fdz45JaCeoyt"
      }
    },
    {
      "cell_type": "code",
      "source": [
        "# 3 two_dim tensors inside a square bracket!\n",
        "# all 3 two_dim tensors are of (2,3) shape\n",
        "# so the overall shape of the below three_dim tensor will be [3,2,3].\n",
        "THREEDIM = torch.tensor([\n",
        "    [[1,2,3],[14,14,14]],\n",
        "\n",
        "    [[11,22,33],[45,45,45]],\n",
        "\n",
        "    [[111,222,333],[445,445,445]],\n",
        "    ])\n",
        "print(THREEDIM)\n",
        "print('dimension:',THREEDIM.ndim)\n",
        "print('shape:', THREEDIM.shape)"
      ],
      "metadata": {
        "colab": {
          "base_uri": "https://localhost:8080/"
        },
        "id": "GNZCBMupeDdt",
        "outputId": "5bbae598-6511-48fd-d5f5-d4940bab072a"
      },
      "execution_count": 17,
      "outputs": [
        {
          "output_type": "stream",
          "name": "stdout",
          "text": [
            "tensor([[[  1,   2,   3],\n",
            "         [ 14,  14,  14]],\n",
            "\n",
            "        [[ 11,  22,  33],\n",
            "         [ 45,  45,  45]],\n",
            "\n",
            "        [[111, 222, 333],\n",
            "         [445, 445, 445]]])\n",
            "dimension: 3\n",
            "shape: torch.Size([3, 2, 3])\n"
          ]
        }
      ]
    },
    {
      "cell_type": "code",
      "source": [
        "print('accessing 1st row of 1st 2_dim tensor:', THREEDIM[0][0])\n",
        "print('accessing 1st row of 3rd 2_dim tensor:', THREEDIM[2][0])"
      ],
      "metadata": {
        "colab": {
          "base_uri": "https://localhost:8080/"
        },
        "id": "2sAx5Sd5hc2A",
        "outputId": "891fd3ad-c8a5-46d1-8d18-6402580e6d9e"
      },
      "execution_count": 18,
      "outputs": [
        {
          "output_type": "stream",
          "name": "stdout",
          "text": [
            "accessing 1st row of 1st 2_dim tensor: tensor([1, 2, 3])\n",
            "accessing 1st row of 3rd 2_dim tensor: tensor([111, 222, 333])\n"
          ]
        }
      ]
    },
    {
      "cell_type": "markdown",
      "source": [
        "**Creating a random value tensor**"
      ],
      "metadata": {
        "id": "wFEd-VZrki3n"
      }
    },
    {
      "cell_type": "code",
      "source": [
        "RANDOMTENSOR = torch.rand(5,2)\n",
        "RANDOMTENSOR"
      ],
      "metadata": {
        "colab": {
          "base_uri": "https://localhost:8080/"
        },
        "id": "3efRBhyTbBfJ",
        "outputId": "49fb3923-9e1f-40f4-be57-a9c6e9c0fc05"
      },
      "execution_count": 19,
      "outputs": [
        {
          "output_type": "execute_result",
          "data": {
            "text/plain": [
              "tensor([[0.9790, 0.5290],\n",
              "        [0.0454, 0.6622],\n",
              "        [0.2242, 0.2417],\n",
              "        [0.8215, 0.0984],\n",
              "        [0.3624, 0.9261]])"
            ]
          },
          "metadata": {},
          "execution_count": 19
        }
      ]
    },
    {
      "cell_type": "markdown",
      "source": [
        "We need to be familiar with the random tensor because neural network's weights are created similarly."
      ],
      "metadata": {
        "id": "Ga0Xjk_goLcI"
      }
    },
    {
      "cell_type": "code",
      "source": [
        "RANDOM_INT_TENSOR = torch.randint(low=1, high=5, size=(2,2))  # creating a random-valued tensor with values in-between 1 and 5 with shape 2,2\n",
        "RANDOM_INT_TENSOR"
      ],
      "metadata": {
        "colab": {
          "base_uri": "https://localhost:8080/"
        },
        "id": "YjlEsVX5lo1p",
        "outputId": "cff51529-5883-46c6-a69a-9861e93629bd"
      },
      "execution_count": 20,
      "outputs": [
        {
          "output_type": "execute_result",
          "data": {
            "text/plain": [
              "tensor([[1, 3],\n",
              "        [3, 4]])"
            ]
          },
          "metadata": {},
          "execution_count": 20
        }
      ]
    },
    {
      "cell_type": "markdown",
      "source": [
        "**Tensor of all zeros or ones**"
      ],
      "metadata": {
        "id": "2_EVmsGIqvUI"
      }
    },
    {
      "cell_type": "code",
      "source": [
        "zeros = torch.zeros(size=(2,3))\n",
        "ones = torch.ones(size=(2,3))\n",
        "print(zeros,'\\n')\n",
        "print(ones)"
      ],
      "metadata": {
        "colab": {
          "base_uri": "https://localhost:8080/"
        },
        "id": "Yaog8Aw7q5RD",
        "outputId": "c3fea672-296c-42de-a7d5-b9b23149fd75"
      },
      "execution_count": 21,
      "outputs": [
        {
          "output_type": "stream",
          "name": "stdout",
          "text": [
            "tensor([[0., 0., 0.],\n",
            "        [0., 0., 0.]]) \n",
            "\n",
            "tensor([[1., 1., 1.],\n",
            "        [1., 1., 1.]])\n"
          ]
        }
      ]
    },
    {
      "cell_type": "code",
      "source": [
        "print(zeros.dtype)"
      ],
      "metadata": {
        "colab": {
          "base_uri": "https://localhost:8080/"
        },
        "id": "-HK1Vj_mrUMO",
        "outputId": "037e0aae-ea27-445a-9dbf-725257714b98"
      },
      "execution_count": 22,
      "outputs": [
        {
          "output_type": "stream",
          "name": "stdout",
          "text": [
            "torch.float32\n"
          ]
        }
      ]
    },
    {
      "cell_type": "markdown",
      "source": [
        "### Manipulating the tensors"
      ],
      "metadata": {
        "id": "fvh-n3nXr1-n"
      }
    },
    {
      "cell_type": "code",
      "source": [
        "# adding a number element-wise\n",
        "sample = torch.tensor([1,2,3])\n",
        "print(sample)"
      ],
      "metadata": {
        "colab": {
          "base_uri": "https://localhost:8080/"
        },
        "id": "VoydmIeilz0w",
        "outputId": "b0d227ef-f26f-4510-a7d8-f080123dfc71"
      },
      "execution_count": 23,
      "outputs": [
        {
          "output_type": "stream",
          "name": "stdout",
          "text": [
            "tensor([1, 2, 3])\n"
          ]
        }
      ]
    },
    {
      "cell_type": "code",
      "source": [
        "add_5 = sample + 5\n",
        "print(add_5)"
      ],
      "metadata": {
        "colab": {
          "base_uri": "https://localhost:8080/"
        },
        "id": "tSEFMFvLoZWV",
        "outputId": "c8a9cbdb-07d4-42d2-a939-8b4ee6cb4210"
      },
      "execution_count": 24,
      "outputs": [
        {
          "output_type": "stream",
          "name": "stdout",
          "text": [
            "tensor([6, 7, 8])\n"
          ]
        }
      ]
    },
    {
      "cell_type": "code",
      "source": [
        "using_function = torch.add(sample, 5)\n",
        "print(using_function)"
      ],
      "metadata": {
        "colab": {
          "base_uri": "https://localhost:8080/"
        },
        "id": "Z4_YnZwloden",
        "outputId": "82a93aba-417a-4cb0-e52b-08b2477bc1e8"
      },
      "execution_count": 25,
      "outputs": [
        {
          "output_type": "stream",
          "name": "stdout",
          "text": [
            "tensor([6, 7, 8])\n"
          ]
        }
      ]
    },
    {
      "cell_type": "code",
      "source": [
        "# element-wise multiplication\n",
        "mul_5 = sample * 5\n",
        "print(mul_5)"
      ],
      "metadata": {
        "colab": {
          "base_uri": "https://localhost:8080/"
        },
        "id": "_EjwplQDomO2",
        "outputId": "55ddc164-7c5c-43b9-e928-d9a75e869787"
      },
      "execution_count": 26,
      "outputs": [
        {
          "output_type": "stream",
          "name": "stdout",
          "text": [
            "tensor([ 5, 10, 15])\n"
          ]
        }
      ]
    },
    {
      "cell_type": "code",
      "source": [
        "using_function = torch.mul(sample, 5)\n",
        "using_function"
      ],
      "metadata": {
        "colab": {
          "base_uri": "https://localhost:8080/"
        },
        "id": "JeAqvG1GowG8",
        "outputId": "9287f55e-98e8-48de-ed17-f5176a3b2c6e"
      },
      "execution_count": 27,
      "outputs": [
        {
          "output_type": "execute_result",
          "data": {
            "text/plain": [
              "tensor([ 5, 10, 15])"
            ]
          },
          "metadata": {},
          "execution_count": 27
        }
      ]
    },
    {
      "cell_type": "code",
      "source": [
        "# Matrix multiplication (dot product)\n",
        "vec_1 = torch.tensor([1,2,3])\n",
        "print(vec_1)"
      ],
      "metadata": {
        "colab": {
          "base_uri": "https://localhost:8080/"
        },
        "id": "mvBo7t0So04C",
        "outputId": "149b3627-5f91-45f0-bd85-c0fdbf4ca0cf"
      },
      "execution_count": 28,
      "outputs": [
        {
          "output_type": "stream",
          "name": "stdout",
          "text": [
            "tensor([1, 2, 3])\n"
          ]
        }
      ]
    },
    {
      "cell_type": "code",
      "source": [
        "vec_2 = torch.tensor([4,5,6])\n",
        "print(vec_2)"
      ],
      "metadata": {
        "colab": {
          "base_uri": "https://localhost:8080/"
        },
        "id": "1lK8HXtVp1dU",
        "outputId": "f50d9bb5-f2f6-41b4-9ca1-8189478d9777"
      },
      "execution_count": 29,
      "outputs": [
        {
          "output_type": "stream",
          "name": "stdout",
          "text": [
            "tensor([4, 5, 6])\n"
          ]
        }
      ]
    },
    {
      "cell_type": "code",
      "source": [
        "# (1*4 + 2*5 + 3*6) = 32\n",
        "print(torch.matmul(vec_1, vec_2))"
      ],
      "metadata": {
        "colab": {
          "base_uri": "https://localhost:8080/"
        },
        "id": "TcXNxmrZrIAW",
        "outputId": "7b60973c-6195-4152-b96f-629c86969cc2"
      },
      "execution_count": 30,
      "outputs": [
        {
          "output_type": "stream",
          "name": "stdout",
          "text": [
            "tensor(32)\n"
          ]
        }
      ]
    },
    {
      "cell_type": "markdown",
      "source": [
        "Using the torch's built-in functions are fast."
      ],
      "metadata": {
        "id": "5HKaV_tVrVeS"
      }
    },
    {
      "cell_type": "code",
      "source": [
        "%%time\n",
        "val = 0\n",
        "for i in range(len(vec_1)):\n",
        "  val += vec_1[i] * vec_2[i]\n",
        "print(val)\n"
      ],
      "metadata": {
        "colab": {
          "base_uri": "https://localhost:8080/"
        },
        "id": "ZHADe0F8rLIv",
        "outputId": "3bd14374-5b22-4733-a175-ca006a316218"
      },
      "execution_count": 31,
      "outputs": [
        {
          "output_type": "stream",
          "name": "stdout",
          "text": [
            "tensor(32)\n",
            "CPU times: user 294 µs, sys: 57 µs, total: 351 µs\n",
            "Wall time: 357 µs\n"
          ]
        }
      ]
    },
    {
      "cell_type": "code",
      "source": [
        "%%time\n",
        "print(torch.matmul(vec_1, vec_2))"
      ],
      "metadata": {
        "colab": {
          "base_uri": "https://localhost:8080/"
        },
        "id": "UA6WAxItr5mU",
        "outputId": "8174c4bf-eba5-4e91-c970-678216a95adf"
      },
      "execution_count": 32,
      "outputs": [
        {
          "output_type": "stream",
          "name": "stdout",
          "text": [
            "tensor(32)\n",
            "CPU times: user 216 µs, sys: 0 ns, total: 216 µs\n",
            "Wall time: 221 µs\n"
          ]
        }
      ]
    },
    {
      "cell_type": "markdown",
      "source": [
        "Min, Max, sum, mean functions"
      ],
      "metadata": {
        "id": "-EQ8vj-hVAOc"
      }
    },
    {
      "cell_type": "code",
      "source": [
        "print(vec_1)"
      ],
      "metadata": {
        "colab": {
          "base_uri": "https://localhost:8080/"
        },
        "id": "DZYbU1uPVFeP",
        "outputId": "25f489fd-ed51-4261-bf30-b697dde39ff7"
      },
      "execution_count": 33,
      "outputs": [
        {
          "output_type": "stream",
          "name": "stdout",
          "text": [
            "tensor([1, 2, 3])\n"
          ]
        }
      ]
    },
    {
      "cell_type": "code",
      "source": [
        "# two ways\n",
        "print(vec_1.min())\n",
        "print(torch.min(vec_1))"
      ],
      "metadata": {
        "colab": {
          "base_uri": "https://localhost:8080/"
        },
        "id": "myw1n-VxVGXA",
        "outputId": "7f5bd9c6-f642-45a8-9548-23070038f89d"
      },
      "execution_count": 34,
      "outputs": [
        {
          "output_type": "stream",
          "name": "stdout",
          "text": [
            "tensor(1)\n",
            "tensor(1)\n"
          ]
        }
      ]
    },
    {
      "cell_type": "code",
      "source": [
        "print(vec_1.max())\n",
        "print(torch.max(vec_1))"
      ],
      "metadata": {
        "colab": {
          "base_uri": "https://localhost:8080/"
        },
        "id": "Yz9xdSW-Y8Ql",
        "outputId": "34caf5e8-b524-48df-8231-3b9c6350835c"
      },
      "execution_count": 35,
      "outputs": [
        {
          "output_type": "stream",
          "name": "stdout",
          "text": [
            "tensor(3)\n",
            "tensor(3)\n"
          ]
        }
      ]
    },
    {
      "cell_type": "code",
      "source": [
        "print(vec_1.sum())\n",
        "print(torch.sum(vec_1))"
      ],
      "metadata": {
        "colab": {
          "base_uri": "https://localhost:8080/"
        },
        "id": "zTx4T9_bZChH",
        "outputId": "bb5d692d-824a-47bd-e1e4-a5916aea066d"
      },
      "execution_count": 36,
      "outputs": [
        {
          "output_type": "stream",
          "name": "stdout",
          "text": [
            "tensor(6)\n",
            "tensor(6)\n"
          ]
        }
      ]
    },
    {
      "cell_type": "code",
      "source": [
        "print(vec_1.dtype)"
      ],
      "metadata": {
        "colab": {
          "base_uri": "https://localhost:8080/"
        },
        "id": "526IapFLZHO5",
        "outputId": "c0b73dda-f0b3-4f01-e9e5-0b5960246fec"
      },
      "execution_count": 37,
      "outputs": [
        {
          "output_type": "stream",
          "name": "stdout",
          "text": [
            "torch.int64\n"
          ]
        }
      ]
    },
    {
      "cell_type": "code",
      "source": [
        "print(torch.mean(vec_1)) # we can not calculate the mean with int64 or long type"
      ],
      "metadata": {
        "colab": {
          "base_uri": "https://localhost:8080/",
          "height": 180
        },
        "id": "gVIShkYRZSKQ",
        "outputId": "47ee56a5-9a96-4567-d484-a6bbf7a718b0"
      },
      "execution_count": 38,
      "outputs": [
        {
          "output_type": "error",
          "ename": "RuntimeError",
          "evalue": "ignored",
          "traceback": [
            "\u001b[0;31m---------------------------------------------------------------------------\u001b[0m",
            "\u001b[0;31mRuntimeError\u001b[0m                              Traceback (most recent call last)",
            "\u001b[0;32m<ipython-input-38-1c753e46caff>\u001b[0m in \u001b[0;36m<cell line: 1>\u001b[0;34m()\u001b[0m\n\u001b[0;32m----> 1\u001b[0;31m \u001b[0mprint\u001b[0m\u001b[0;34m(\u001b[0m\u001b[0mtorch\u001b[0m\u001b[0;34m.\u001b[0m\u001b[0mmean\u001b[0m\u001b[0;34m(\u001b[0m\u001b[0mvec_1\u001b[0m\u001b[0;34m)\u001b[0m\u001b[0;34m)\u001b[0m \u001b[0;31m# we can not calculate the mean with int64 or long type\u001b[0m\u001b[0;34m\u001b[0m\u001b[0;34m\u001b[0m\u001b[0m\n\u001b[0m",
            "\u001b[0;31mRuntimeError\u001b[0m: mean(): could not infer output dtype. Input dtype must be either a floating point or complex dtype. Got: Long"
          ]
        }
      ]
    },
    {
      "cell_type": "code",
      "source": [
        "print(torch.mean(vec_1.type(torch.float32)))  # Changing the type to float 32 and calculating the mean."
      ],
      "metadata": {
        "colab": {
          "base_uri": "https://localhost:8080/"
        },
        "id": "maYAp3NuZcnn",
        "outputId": "7a8436f1-96d0-4350-e3a6-92366cbd750f"
      },
      "execution_count": 39,
      "outputs": [
        {
          "output_type": "stream",
          "name": "stdout",
          "text": [
            "tensor(2.)\n"
          ]
        }
      ]
    },
    {
      "cell_type": "markdown",
      "source": [
        "##Reshaping, Stacking, Squeeze, Unsqueeze\n",
        "\n"
      ],
      "metadata": {
        "id": "Z0rhl-5DTUVO"
      }
    },
    {
      "cell_type": "code",
      "source": [
        "vec = torch.arange(1.0, 16.0)\n",
        "print(f\"vec: {vec}\")\n",
        "print(f\"\\nShape of the vec: {vec.shape}\")"
      ],
      "metadata": {
        "colab": {
          "base_uri": "https://localhost:8080/"
        },
        "id": "EsxCfySEUx9v",
        "outputId": "60793c7a-6fa6-4ce8-c456-2b5be1fe3a21"
      },
      "execution_count": 40,
      "outputs": [
        {
          "output_type": "stream",
          "name": "stdout",
          "text": [
            "vec: tensor([ 1.,  2.,  3.,  4.,  5.,  6.,  7.,  8.,  9., 10., 11., 12., 13., 14.,\n",
            "        15.])\n",
            "\n",
            "Shape of the vec: torch.Size([15])\n"
          ]
        }
      ]
    },
    {
      "cell_type": "markdown",
      "source": [
        "**reshaping**"
      ],
      "metadata": {
        "id": "2ufHK6aoac0W"
      }
    },
    {
      "cell_type": "code",
      "source": [
        "reshaped_vec = vec.reshape(3,5)\n",
        "print(f\"Reshaped vec: {reshaped_vec}\")\n",
        "print(f\"\\nShape of the reshaped vec: {reshaped_vec.shape}\")"
      ],
      "metadata": {
        "colab": {
          "base_uri": "https://localhost:8080/"
        },
        "id": "_8dYhB8QZ56h",
        "outputId": "84fae8ce-264a-44a5-84cd-2ae591e9427e"
      },
      "execution_count": 41,
      "outputs": [
        {
          "output_type": "stream",
          "name": "stdout",
          "text": [
            "Reshaped vec: tensor([[ 1.,  2.,  3.,  4.,  5.],\n",
            "        [ 6.,  7.,  8.,  9., 10.],\n",
            "        [11., 12., 13., 14., 15.]])\n",
            "\n",
            "Shape of the reshaped vec: torch.Size([3, 5])\n"
          ]
        }
      ]
    },
    {
      "cell_type": "markdown",
      "source": [
        "**Squeeze**"
      ],
      "metadata": {
        "id": "AO1zyk7qaNUZ"
      }
    },
    {
      "cell_type": "code",
      "source": [
        "vec = vec.reshape(1,15)\n",
        "print(f\"Shape of new vec: {vec.shape}\")"
      ],
      "metadata": {
        "colab": {
          "base_uri": "https://localhost:8080/"
        },
        "id": "qwWBc_AEai00",
        "outputId": "a7ab85b5-81fd-4d02-fab2-855c62b7b3c8"
      },
      "execution_count": 42,
      "outputs": [
        {
          "output_type": "stream",
          "name": "stdout",
          "text": [
            "Shape of new vec: torch.Size([1, 15])\n"
          ]
        }
      ]
    },
    {
      "cell_type": "code",
      "source": [
        "#Squeeze will remove all of the single dimension from a tensor\n",
        "squeezed_vec = vec.squeeze()\n",
        "print(f\"Squeezed vec: {squeezed_vec}\")\n",
        "print(f\"\\nShape of the squeezed vec: {squeezed_vec.shape}\")"
      ],
      "metadata": {
        "colab": {
          "base_uri": "https://localhost:8080/"
        },
        "id": "-LBcm2AFawui",
        "outputId": "dc58c52f-2b16-4ff4-9805-772da53504f1"
      },
      "execution_count": 43,
      "outputs": [
        {
          "output_type": "stream",
          "name": "stdout",
          "text": [
            "Squeezed vec: tensor([ 1.,  2.,  3.,  4.,  5.,  6.,  7.,  8.,  9., 10., 11., 12., 13., 14.,\n",
            "        15.])\n",
            "\n",
            "Shape of the squeezed vec: torch.Size([15])\n"
          ]
        }
      ]
    },
    {
      "cell_type": "markdown",
      "source": [
        ".squeeze has removed the single dimension"
      ],
      "metadata": {
        "id": "unPE73eibTHL"
      }
    },
    {
      "cell_type": "markdown",
      "source": [
        "**unsqueeze**"
      ],
      "metadata": {
        "id": "pOgnLj-WcYk2"
      }
    },
    {
      "cell_type": "code",
      "source": [
        "# unsqueeze add the single dimension on the targetd axis\n",
        "unsqueezed_vec = squeezed_vec.unsqueeze(dim=0)\n",
        "print(f\"Unsqueezed vec: {unsqueezed_vec}\")\n",
        "print(f\"\\n Shape of Unsqueezed vec: {unsqueezed_vec.shape}\")"
      ],
      "metadata": {
        "colab": {
          "base_uri": "https://localhost:8080/"
        },
        "id": "um4NWfE7bmIt",
        "outputId": "8ee64465-f18b-4e30-90fa-2948a0dfb03f"
      },
      "execution_count": 44,
      "outputs": [
        {
          "output_type": "stream",
          "name": "stdout",
          "text": [
            "Unsqueezed vec: tensor([[ 1.,  2.,  3.,  4.,  5.,  6.,  7.,  8.,  9., 10., 11., 12., 13., 14.,\n",
            "         15.]])\n",
            "\n",
            " Shape of Unsqueezed vec: torch.Size([1, 15])\n"
          ]
        }
      ]
    },
    {
      "cell_type": "code",
      "source": [
        "# unsqueeze add the single dimension on the targetd axis\n",
        "unsqueezed_vec = squeezed_vec.unsqueeze(dim=1)\n",
        "print(f\"Unsqueezed vec: {unsqueezed_vec}\")\n",
        "print(f\"\\n Shape of Unsqueezed vec: {unsqueezed_vec.shape}\")"
      ],
      "metadata": {
        "colab": {
          "base_uri": "https://localhost:8080/"
        },
        "id": "uo_-7sntb8Nz",
        "outputId": "564ead48-f210-43da-de37-47edcad926d6"
      },
      "execution_count": 45,
      "outputs": [
        {
          "output_type": "stream",
          "name": "stdout",
          "text": [
            "Unsqueezed vec: tensor([[ 1.],\n",
            "        [ 2.],\n",
            "        [ 3.],\n",
            "        [ 4.],\n",
            "        [ 5.],\n",
            "        [ 6.],\n",
            "        [ 7.],\n",
            "        [ 8.],\n",
            "        [ 9.],\n",
            "        [10.],\n",
            "        [11.],\n",
            "        [12.],\n",
            "        [13.],\n",
            "        [14.],\n",
            "        [15.]])\n",
            "\n",
            " Shape of Unsqueezed vec: torch.Size([15, 1])\n"
          ]
        }
      ]
    },
    {
      "cell_type": "markdown",
      "source": [
        "**Permute: Used while working with the image data to swap the position from (height, width, channel) to (channel, height, width) or according to our need.**\n"
      ],
      "metadata": {
        "id": "NTVtPdRScGL8"
      }
    },
    {
      "cell_type": "code",
      "source": [
        "vec = torch.rand(size=(5,5,3))\n",
        "print(vec)\n",
        "print(vec.shape)"
      ],
      "metadata": {
        "colab": {
          "base_uri": "https://localhost:8080/"
        },
        "id": "3OM0zepzdEez",
        "outputId": "72db6e4d-42e3-412c-9543-dd9b951cd6e5"
      },
      "execution_count": 46,
      "outputs": [
        {
          "output_type": "stream",
          "name": "stdout",
          "text": [
            "tensor([[[0.4698, 0.2240, 0.0934],\n",
            "         [0.3102, 0.5332, 0.4193],\n",
            "         [0.9048, 0.0407, 0.0197],\n",
            "         [0.7058, 0.6966, 0.5730],\n",
            "         [0.0043, 0.3590, 0.3640]],\n",
            "\n",
            "        [[0.1283, 0.4822, 0.8579],\n",
            "         [0.0796, 0.7354, 0.1566],\n",
            "         [0.5245, 0.9389, 0.5449],\n",
            "         [0.0743, 0.2571, 0.1141],\n",
            "         [0.7965, 0.9578, 0.5257]],\n",
            "\n",
            "        [[0.2027, 0.4974, 0.5836],\n",
            "         [0.1941, 0.2788, 0.4582],\n",
            "         [0.6061, 0.5734, 0.1209],\n",
            "         [0.8674, 0.0825, 0.6444],\n",
            "         [0.0915, 0.8225, 0.5968]],\n",
            "\n",
            "        [[0.9661, 0.7141, 0.9261],\n",
            "         [0.5343, 0.9405, 0.0783],\n",
            "         [0.5267, 0.6221, 0.7937],\n",
            "         [0.7079, 0.8429, 0.0115],\n",
            "         [0.9646, 0.6416, 0.3096]],\n",
            "\n",
            "        [[0.4359, 0.5329, 0.7900],\n",
            "         [0.5571, 0.1804, 0.9835],\n",
            "         [0.8884, 0.0506, 0.2160],\n",
            "         [0.6417, 0.1672, 0.1086],\n",
            "         [0.8574, 0.3178, 0.7922]]])\n",
            "torch.Size([5, 5, 3])\n"
          ]
        }
      ]
    },
    {
      "cell_type": "code",
      "source": [
        "rearranged_shape = vec.permute(2,0,1)\n",
        "print(rearranged_shape.shape)"
      ],
      "metadata": {
        "colab": {
          "base_uri": "https://localhost:8080/"
        },
        "id": "OcXUvmFxd4nl",
        "outputId": "3debb81c-13d4-4d79-e946-8dd019120acc"
      },
      "execution_count": 47,
      "outputs": [
        {
          "output_type": "stream",
          "name": "stdout",
          "text": [
            "torch.Size([3, 5, 5])\n"
          ]
        }
      ]
    },
    {
      "cell_type": "code",
      "source": [
        "print(rearranged_shape)"
      ],
      "metadata": {
        "colab": {
          "base_uri": "https://localhost:8080/"
        },
        "id": "q-8q-47PeJmb",
        "outputId": "0613506b-7147-45ba-d8bc-9ca52f8e5c70"
      },
      "execution_count": 48,
      "outputs": [
        {
          "output_type": "stream",
          "name": "stdout",
          "text": [
            "tensor([[[0.4698, 0.3102, 0.9048, 0.7058, 0.0043],\n",
            "         [0.1283, 0.0796, 0.5245, 0.0743, 0.7965],\n",
            "         [0.2027, 0.1941, 0.6061, 0.8674, 0.0915],\n",
            "         [0.9661, 0.5343, 0.5267, 0.7079, 0.9646],\n",
            "         [0.4359, 0.5571, 0.8884, 0.6417, 0.8574]],\n",
            "\n",
            "        [[0.2240, 0.5332, 0.0407, 0.6966, 0.3590],\n",
            "         [0.4822, 0.7354, 0.9389, 0.2571, 0.9578],\n",
            "         [0.4974, 0.2788, 0.5734, 0.0825, 0.8225],\n",
            "         [0.7141, 0.9405, 0.6221, 0.8429, 0.6416],\n",
            "         [0.5329, 0.1804, 0.0506, 0.1672, 0.3178]],\n",
            "\n",
            "        [[0.0934, 0.4193, 0.0197, 0.5730, 0.3640],\n",
            "         [0.8579, 0.1566, 0.5449, 0.1141, 0.5257],\n",
            "         [0.5836, 0.4582, 0.1209, 0.6444, 0.5968],\n",
            "         [0.9261, 0.0783, 0.7937, 0.0115, 0.3096],\n",
            "         [0.7900, 0.9835, 0.2160, 0.1086, 0.7922]]])\n"
          ]
        }
      ]
    },
    {
      "cell_type": "markdown",
      "source": [
        "## Tensor to numpy and numpy to tensor"
      ],
      "metadata": {
        "id": "9Xb5NY46G8-u"
      }
    },
    {
      "cell_type": "code",
      "source": [
        "import numpy as np"
      ],
      "metadata": {
        "id": "8stB_9F-HD2W"
      },
      "execution_count": 58,
      "outputs": []
    },
    {
      "cell_type": "code",
      "source": [
        "narray = np.arange(1,10)\n",
        "print(narray)"
      ],
      "metadata": {
        "colab": {
          "base_uri": "https://localhost:8080/"
        },
        "id": "1VMYskhZHHBu",
        "outputId": "2bce0ab8-2839-413c-8ded-3e032fab281d"
      },
      "execution_count": 59,
      "outputs": [
        {
          "output_type": "stream",
          "name": "stdout",
          "text": [
            "[1 2 3 4 5 6 7 8 9]\n"
          ]
        }
      ]
    },
    {
      "cell_type": "code",
      "source": [
        "# Numpy array to pytorch tensor\n",
        "numpy_to_tensor = torch.from_numpy(narray)\n",
        "print(numpy_to_tensor)"
      ],
      "metadata": {
        "colab": {
          "base_uri": "https://localhost:8080/"
        },
        "id": "Sh5OR8-sHb6G",
        "outputId": "c9b5e400-3e17-4a18-e047-eadd28e3a5fc"
      },
      "execution_count": 61,
      "outputs": [
        {
          "output_type": "stream",
          "name": "stdout",
          "text": [
            "tensor([1, 2, 3, 4, 5, 6, 7, 8, 9])\n"
          ]
        }
      ]
    },
    {
      "cell_type": "code",
      "source": [
        "dummy_tensor = torch.arange(1,10)\n",
        "print(dummy_tensor)\n",
        "\n",
        "tensor_to_numpy = dummy_tensor.numpy()\n",
        "print(tensor_to_numpy)"
      ],
      "metadata": {
        "colab": {
          "base_uri": "https://localhost:8080/"
        },
        "id": "KpHBVT4hHNEg",
        "outputId": "debf037c-7d66-49a1-802b-86b6cfc7999f"
      },
      "execution_count": 62,
      "outputs": [
        {
          "output_type": "stream",
          "name": "stdout",
          "text": [
            "tensor([1, 2, 3, 4, 5, 6, 7, 8, 9])\n",
            "[1 2 3 4 5 6 7 8 9]\n"
          ]
        }
      ]
    },
    {
      "cell_type": "markdown",
      "source": [
        "## GPU availability check\n"
      ],
      "metadata": {
        "id": "_TZYjxzJeMND"
      }
    },
    {
      "cell_type": "code",
      "source": [
        "# below code will say whethere we have cuda (GPU access with pytorch)\n",
        "torch.cuda.is_available()\n",
        "# False == no cuda / GPU access\n",
        "# True == support of cuda / GPU access"
      ],
      "metadata": {
        "colab": {
          "base_uri": "https://localhost:8080/"
        },
        "id": "-GUQgOUFBbc9",
        "outputId": "61ca97b0-a42d-4f59-8b25-644d7c7d38d3"
      },
      "execution_count": 49,
      "outputs": [
        {
          "output_type": "execute_result",
          "data": {
            "text/plain": [
              "True"
            ]
          },
          "metadata": {},
          "execution_count": 49
        }
      ]
    },
    {
      "cell_type": "markdown",
      "source": [
        "**Note!**\n",
        "****\n",
        "we should always have a device-agnostic test code so that if our model has to run on both CPU and GPU devices back and forth then our model won't break down."
      ],
      "metadata": {
        "id": "9cIwUid4CDFI"
      }
    },
    {
      "cell_type": "code",
      "source": [
        "# pytorch device agnostic code\n",
        "device = 'cuda' if torch.cuda.is_available() else 'cpu'\n",
        "print(device)\n",
        "# Using google colab, we can get a free GPU going to the runtime."
      ],
      "metadata": {
        "colab": {
          "base_uri": "https://localhost:8080/"
        },
        "id": "hemfJWcKBtXO",
        "outputId": "b54fc009-3c9b-4602-ccca-28a3b20f0ea9"
      },
      "execution_count": 50,
      "outputs": [
        {
          "output_type": "stream",
          "name": "stdout",
          "text": [
            "cuda\n"
          ]
        }
      ]
    },
    {
      "cell_type": "code",
      "source": [
        "# giving GPU access to the tensor\n",
        "dummy = torch.tensor([1,2,3,4,5])\n",
        "print(dummy, dummy.device)\n",
        "# By default, the device cpu"
      ],
      "metadata": {
        "colab": {
          "base_uri": "https://localhost:8080/"
        },
        "id": "eGoXEjQVFUz5",
        "outputId": "5facecad-3d22-4621-c8d0-c3a3ab5ae812"
      },
      "execution_count": 51,
      "outputs": [
        {
          "output_type": "stream",
          "name": "stdout",
          "text": [
            "tensor([1, 2, 3, 4, 5]) cpu\n"
          ]
        }
      ]
    },
    {
      "cell_type": "code",
      "source": [
        "dummy = dummy.to(device)\n",
        "print(dummy, dummy.device)"
      ],
      "metadata": {
        "colab": {
          "base_uri": "https://localhost:8080/"
        },
        "id": "jLeZ-FjkFmfz",
        "outputId": "2fbb4474-3429-402b-b832-9847c93b6a56"
      },
      "execution_count": 52,
      "outputs": [
        {
          "output_type": "stream",
          "name": "stdout",
          "text": [
            "tensor([1, 2, 3, 4, 5], device='cuda:0') cuda:0\n"
          ]
        }
      ]
    },
    {
      "cell_type": "markdown",
      "source": [
        "**Note**\n",
        "If we have a tensor with GPU, we cannot convert it into a numpy array. At first, it must be converted into a CPU.:"
      ],
      "metadata": {
        "id": "b_4ztGy_FvXS"
      }
    },
    {
      "cell_type": "code",
      "source": [
        "# example:\n",
        "numpy_version = dummy.numpy()"
      ],
      "metadata": {
        "colab": {
          "base_uri": "https://localhost:8080/",
          "height": 198
        },
        "id": "6CtLJkUJGVHB",
        "outputId": "664812f8-d92b-4387-a2d1-54f63b1079f5"
      },
      "execution_count": 53,
      "outputs": [
        {
          "output_type": "error",
          "ename": "TypeError",
          "evalue": "ignored",
          "traceback": [
            "\u001b[0;31m---------------------------------------------------------------------------\u001b[0m",
            "\u001b[0;31mTypeError\u001b[0m                                 Traceback (most recent call last)",
            "\u001b[0;32m<ipython-input-53-8564f226eac0>\u001b[0m in \u001b[0;36m<cell line: 2>\u001b[0;34m()\u001b[0m\n\u001b[1;32m      1\u001b[0m \u001b[0;31m# example:\u001b[0m\u001b[0;34m\u001b[0m\u001b[0;34m\u001b[0m\u001b[0m\n\u001b[0;32m----> 2\u001b[0;31m \u001b[0mnumpy_version\u001b[0m \u001b[0;34m=\u001b[0m \u001b[0mdummy\u001b[0m\u001b[0;34m.\u001b[0m\u001b[0mnumpy\u001b[0m\u001b[0;34m(\u001b[0m\u001b[0;34m)\u001b[0m\u001b[0;34m\u001b[0m\u001b[0;34m\u001b[0m\u001b[0m\n\u001b[0m",
            "\u001b[0;31mTypeError\u001b[0m: can't convert cuda:0 device type tensor to numpy. Use Tensor.cpu() to copy the tensor to host memory first."
          ]
        }
      ]
    },
    {
      "cell_type": "code",
      "source": [
        "numpy_version = dummy.cpu().numpy()\n",
        "print(numpy_version)"
      ],
      "metadata": {
        "colab": {
          "base_uri": "https://localhost:8080/"
        },
        "id": "GA8nsOojGixf",
        "outputId": "24f7c069-d209-4ab5-c108-7fa921d8a254"
      },
      "execution_count": 63,
      "outputs": [
        {
          "output_type": "stream",
          "name": "stdout",
          "text": [
            "[1 2 3 4 5]\n"
          ]
        }
      ]
    }
  ]
}